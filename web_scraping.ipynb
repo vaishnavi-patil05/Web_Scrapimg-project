{
  "nbformat": 4,
  "nbformat_minor": 0,
  "metadata": {
    "colab": {
      "name": "web_scraping",
      "provenance": [],
      "authorship_tag": "ABX9TyNMu/UkC72jI3PLGJlm228o",
      "include_colab_link": true
    },
    "kernelspec": {
      "name": "python3",
      "display_name": "Python 3"
    },
    "language_info": {
      "name": "python"
    }
  },
  "cells": [
    {
      "cell_type": "markdown",
      "metadata": {
        "id": "view-in-github",
        "colab_type": "text"
      },
      "source": [
        "<a href=\"https://colab.research.google.com/github/vaishnavi-patil05/Web_Scraping-project/blob/main/web_scraping.ipynb\" target=\"_parent\"><img src=\"https://colab.research.google.com/assets/colab-badge.svg\" alt=\"Open In Colab\"/></a>"
      ]
    },
    {
      "cell_type": "code",
      "source": [
        "from bs4 import BeautifulSoup as bs\n"
      ],
      "metadata": {
        "id": "rCA3XrggzzYz"
      },
      "execution_count": null,
      "outputs": []
    },
    {
      "cell_type": "code",
      "execution_count": null,
      "metadata": {
        "id": "NAoGaT27yTZ0"
      },
      "outputs": [],
      "source": [
        "import requests"
      ]
    },
    {
      "cell_type": "code",
      "source": [
        "url='http://books.toscrape.com/'\n",
        "response = requests.get(url)\n",
        "response"
      ],
      "metadata": {
        "colab": {
          "base_uri": "https://localhost:8080/"
        },
        "id": "aGd0w5X5yVXr",
        "outputId": "a2de2cae-f03b-4e7f-c03c-c1218d251b0a"
      },
      "execution_count": null,
      "outputs": [
        {
          "output_type": "execute_result",
          "data": {
            "text/plain": [
              "<Response [200]>"
            ]
          },
          "metadata": {},
          "execution_count": 5
        }
      ]
    },
    {
      "cell_type": "code",
      "source": [
        "response.status_code"
      ],
      "metadata": {
        "colab": {
          "base_uri": "https://localhost:8080/"
        },
        "id": "aIuMcgVSygAh",
        "outputId": "4f555a62-b550-48cc-bf30-35bc33f64847"
      },
      "execution_count": null,
      "outputs": [
        {
          "output_type": "execute_result",
          "data": {
            "text/plain": [
              "200"
            ]
          },
          "metadata": {},
          "execution_count": 6
        }
      ]
    },
    {
      "cell_type": "code",
      "source": [
        "print(response.text[:1000])\n"
      ],
      "metadata": {
        "colab": {
          "base_uri": "https://localhost:8080/"
        },
        "id": "SBgB4qK_y7vE",
        "outputId": "90c0e3fc-6bc8-4d12-8b29-63b5622dde08"
      },
      "execution_count": null,
      "outputs": [
        {
          "output_type": "stream",
          "name": "stdout",
          "text": [
            "<!DOCTYPE html>\n",
            "<!--[if lt IE 7]>      <html lang=\"en-us\" class=\"no-js lt-ie9 lt-ie8 lt-ie7\"> <![endif]-->\n",
            "<!--[if IE 7]>         <html lang=\"en-us\" class=\"no-js lt-ie9 lt-ie8\"> <![endif]-->\n",
            "<!--[if IE 8]>         <html lang=\"en-us\" class=\"no-js lt-ie9\"> <![endif]-->\n",
            "<!--[if gt IE 8]><!--> <html lang=\"en-us\" class=\"no-js\"> <!--<![endif]-->\n",
            "    <head>\n",
            "        <title>\n",
            "    All products | Books to Scrape - Sandbox\n",
            "</title>\n",
            "\n",
            "        <meta http-equiv=\"content-type\" content=\"text/html; charset=UTF-8\" />\n",
            "        <meta name=\"created\" content=\"24th Jun 2016 09:29\" />\n",
            "        <meta name=\"description\" content=\"\" />\n",
            "        <meta name=\"viewport\" content=\"width=device-width\" />\n",
            "        <meta name=\"robots\" content=\"NOARCHIVE,NOCACHE\" />\n",
            "\n",
            "        <!-- Le HTML5 shim, for IE6-8 support of HTML elements -->\n",
            "        <!--[if lt IE 9]>\n",
            "        <script src=\"//html5shim.googlecode.com/svn/trunk/html5.js\"></script>\n",
            "        <![endif]-->\n",
            "\n",
            "        \n",
            "            <link rel=\"shortcut icon\" href=\"static/oscar/favicon.\n"
          ]
        }
      ]
    },
    {
      "cell_type": "code",
      "source": [
        "type(response.text)\n"
      ],
      "metadata": {
        "colab": {
          "base_uri": "https://localhost:8080/"
        },
        "id": "8LoezjYXzGsD",
        "outputId": "bb98e07e-d240-4cbe-9dd3-ac973ae01592"
      },
      "execution_count": null,
      "outputs": [
        {
          "output_type": "execute_result",
          "data": {
            "text/plain": [
              "str"
            ]
          },
          "metadata": {},
          "execution_count": 7
        }
      ]
    },
    {
      "cell_type": "code",
      "source": [
        "soup = bs(response.text)\n",
        "type(soup)"
      ],
      "metadata": {
        "colab": {
          "base_uri": "https://localhost:8080/"
        },
        "id": "j-8y62QWzigW",
        "outputId": "2f021627-625f-4721-ab1d-75ff118956fa"
      },
      "execution_count": null,
      "outputs": [
        {
          "output_type": "execute_result",
          "data": {
            "text/plain": [
              "bs4.BeautifulSoup"
            ]
          },
          "metadata": {},
          "execution_count": 8
        }
      ]
    },
    {
      "cell_type": "code",
      "source": [
        "soup.find('title').text\n"
      ],
      "metadata": {
        "colab": {
          "base_uri": "https://localhost:8080/",
          "height": 36
        },
        "id": "VbWADCmlzrOO",
        "outputId": "313a2de7-62bc-4039-c88e-af5e07881851"
      },
      "execution_count": null,
      "outputs": [
        {
          "output_type": "execute_result",
          "data": {
            "text/plain": [
              "'Discount on Lipsticks - Buy Lipstick Online at Best Price in India| Nykaa Hot Pink Sale 2022 | Nykaa'"
            ],
            "application/vnd.google.colaboratory.intrinsic+json": {
              "type": "string"
            }
          },
          "metadata": {},
          "execution_count": 9
        }
      ]
    },
    {
      "cell_type": "code",
      "source": [
        "soup.find('title').text.strip()\n"
      ],
      "metadata": {
        "colab": {
          "base_uri": "https://localhost:8080/",
          "height": 36
        },
        "id": "kXA9wvwWz8IQ",
        "outputId": "bde35766-74a4-4642-becc-cb2940f2ec0b"
      },
      "execution_count": null,
      "outputs": [
        {
          "output_type": "execute_result",
          "data": {
            "text/plain": [
              "'All products | Books to Scrape - Sandbox'"
            ],
            "application/vnd.google.colaboratory.intrinsic+json": {
              "type": "string"
            }
          },
          "metadata": {},
          "execution_count": 283
        }
      ]
    },
    {
      "cell_type": "code",
      "source": [
        "soup.find('title')"
      ],
      "metadata": {
        "colab": {
          "base_uri": "https://localhost:8080/"
        },
        "id": "7xomLzyn0M2w",
        "outputId": "59c6526f-ad53-43ae-e79a-1e26bc9c2693"
      },
      "execution_count": null,
      "outputs": [
        {
          "output_type": "execute_result",
          "data": {
            "text/plain": [
              "<title>\n",
              "    All products | Books to Scrape - Sandbox\n",
              "</title>"
            ]
          },
          "metadata": {},
          "execution_count": 284
        }
      ]
    },
    {
      "cell_type": "code",
      "source": [
        "books_tag = soup.find_all('article', class_='product_pod')\n",
        "books_tag\n"
      ],
      "metadata": {
        "id": "AJdeLRbK0a9Y"
      },
      "execution_count": null,
      "outputs": []
    },
    {
      "cell_type": "code",
      "source": [
        "len(books_tag)\n"
      ],
      "metadata": {
        "colab": {
          "base_uri": "https://localhost:8080/"
        },
        "id": "EqUG6Q7U1sPF",
        "outputId": "6acf647f-d1a1-4462-f5f7-a8ff11a0cf9f"
      },
      "execution_count": null,
      "outputs": [
        {
          "output_type": "execute_result",
          "data": {
            "text/plain": [
              "20"
            ]
          },
          "metadata": {},
          "execution_count": 286
        }
      ]
    },
    {
      "cell_type": "code",
      "source": [
        "book_tag = books_tag[0]\n",
        "book_tag"
      ],
      "metadata": {
        "colab": {
          "base_uri": "https://localhost:8080/"
        },
        "id": "akHGLLRq17O_",
        "outputId": "918adaf7-d3dd-437d-c91d-53db75036d81"
      },
      "execution_count": null,
      "outputs": [
        {
          "output_type": "execute_result",
          "data": {
            "text/plain": [
              "<article class=\"product_pod\">\n",
              "<div class=\"image_container\">\n",
              "<a href=\"catalogue/a-light-in-the-attic_1000/index.html\"><img alt=\"A Light in the Attic\" class=\"thumbnail\" src=\"media/cache/2c/da/2cdad67c44b002e7ead0cc35693c0e8b.jpg\"/></a>\n",
              "</div>\n",
              "<p class=\"star-rating Three\">\n",
              "<i class=\"icon-star\"></i>\n",
              "<i class=\"icon-star\"></i>\n",
              "<i class=\"icon-star\"></i>\n",
              "<i class=\"icon-star\"></i>\n",
              "<i class=\"icon-star\"></i>\n",
              "</p>\n",
              "<h3><a href=\"catalogue/a-light-in-the-attic_1000/index.html\" title=\"A Light in the Attic\">A Light in the ...</a></h3>\n",
              "<div class=\"product_price\">\n",
              "<p class=\"price_color\">Â£51.77</p>\n",
              "<p class=\"instock availability\">\n",
              "<i class=\"icon-ok\"></i>\n",
              "    \n",
              "        In stock\n",
              "    \n",
              "</p>\n",
              "<form>\n",
              "<button class=\"btn btn-primary btn-block\" data-loading-text=\"Adding...\" type=\"submit\">Add to basket</button>\n",
              "</form>\n",
              "</div>\n",
              "</article>"
            ]
          },
          "metadata": {},
          "execution_count": 287
        }
      ]
    },
    {
      "cell_type": "code",
      "source": [
        "title_tag = book_tag.find('a', title=True)\n",
        "title_tag"
      ],
      "metadata": {
        "colab": {
          "base_uri": "https://localhost:8080/"
        },
        "id": "XjH3GdQY2Pdr",
        "outputId": "d123357a-1b4b-4bf1-d865-422ce81ad8ae"
      },
      "execution_count": null,
      "outputs": [
        {
          "output_type": "execute_result",
          "data": {
            "text/plain": [
              "<a href=\"catalogue/a-light-in-the-attic_1000/index.html\" title=\"A Light in the Attic\">A Light in the ...</a>"
            ]
          },
          "metadata": {},
          "execution_count": 288
        }
      ]
    },
    {
      "cell_type": "code",
      "source": [
        "title_tag.text\n"
      ],
      "metadata": {
        "colab": {
          "base_uri": "https://localhost:8080/",
          "height": 36
        },
        "id": "56I4TFDh2xtn",
        "outputId": "9529bc40-1d38-4e64-aacb-7cec51d171cb"
      },
      "execution_count": null,
      "outputs": [
        {
          "output_type": "execute_result",
          "data": {
            "text/plain": [
              "'A Light in the ...'"
            ],
            "application/vnd.google.colaboratory.intrinsic+json": {
              "type": "string"
            }
          },
          "metadata": {},
          "execution_count": 289
        }
      ]
    },
    {
      "cell_type": "code",
      "source": [
        "title_tag['title']"
      ],
      "metadata": {
        "colab": {
          "base_uri": "https://localhost:8080/",
          "height": 36
        },
        "id": "KCknlQuI2_2m",
        "outputId": "48fe305d-f3ee-4a97-b2fa-c3f9bb91d29c"
      },
      "execution_count": null,
      "outputs": [
        {
          "output_type": "execute_result",
          "data": {
            "text/plain": [
              "'A Light in the Attic'"
            ],
            "application/vnd.google.colaboratory.intrinsic+json": {
              "type": "string"
            }
          },
          "metadata": {},
          "execution_count": 290
        }
      ]
    },
    {
      "cell_type": "code",
      "source": [
        "title = book_tag.find('a', title=True)['title']\n",
        "title"
      ],
      "metadata": {
        "colab": {
          "base_uri": "https://localhost:8080/",
          "height": 36
        },
        "id": "IlpGOCBe3aBN",
        "outputId": "fae5f59e-e11d-41b6-9910-bb31511e8a12"
      },
      "execution_count": null,
      "outputs": [
        {
          "output_type": "execute_result",
          "data": {
            "text/plain": [
              "'A Light in the Attic'"
            ],
            "application/vnd.google.colaboratory.intrinsic+json": {
              "type": "string"
            }
          },
          "metadata": {},
          "execution_count": 291
        }
      ]
    },
    {
      "cell_type": "code",
      "source": [
        "rating = book_tag.find('p')['class'][1]\n",
        "rating"
      ],
      "metadata": {
        "colab": {
          "base_uri": "https://localhost:8080/",
          "height": 36
        },
        "id": "ZICykz8g3l5n",
        "outputId": "1e74febb-cf07-4e4c-9466-7cbe11fffd80"
      },
      "execution_count": null,
      "outputs": [
        {
          "output_type": "execute_result",
          "data": {
            "text/plain": [
              "'Three'"
            ],
            "application/vnd.google.colaboratory.intrinsic+json": {
              "type": "string"
            }
          },
          "metadata": {},
          "execution_count": 292
        }
      ]
    },
    {
      "cell_type": "code",
      "source": [
        "price = book_tag.find('p', class_='price_color').text[1:]\n",
        "price"
      ],
      "metadata": {
        "colab": {
          "base_uri": "https://localhost:8080/",
          "height": 36
        },
        "id": "VyxXSLSq3s_H",
        "outputId": "ed543b33-c61f-4eea-82ec-65bfd530fd03"
      },
      "execution_count": null,
      "outputs": [
        {
          "output_type": "execute_result",
          "data": {
            "text/plain": [
              "'£51.77'"
            ],
            "application/vnd.google.colaboratory.intrinsic+json": {
              "type": "string"
            }
          },
          "metadata": {},
          "execution_count": 293
        }
      ]
    },
    {
      "cell_type": "code",
      "source": [
        "link = 'http://books.toscrape.com/' + book_tag.find('a')['href']\n",
        "link"
      ],
      "metadata": {
        "colab": {
          "base_uri": "https://localhost:8080/",
          "height": 36
        },
        "id": "uML0y2VW4MMs",
        "outputId": "2be87c67-72f9-4192-e6bb-6c3c1957692c"
      },
      "execution_count": null,
      "outputs": [
        {
          "output_type": "execute_result",
          "data": {
            "text/plain": [
              "'http://books.toscrape.com/catalogue/a-light-in-the-attic_1000/index.html'"
            ],
            "application/vnd.google.colaboratory.intrinsic+json": {
              "type": "string"
            }
          },
          "metadata": {},
          "execution_count": 294
        }
      ]
    },
    {
      "cell_type": "code",
      "source": [
        "import re\n",
        "rating=book_tag.find('p',class_=\"star-rating\")\n",
        "rating['class'][-1]"
      ],
      "metadata": {
        "colab": {
          "base_uri": "https://localhost:8080/",
          "height": 36
        },
        "id": "78oktvu5NOQW",
        "outputId": "51590bfb-387a-4fb2-fcef-093437a7c5a8"
      },
      "execution_count": null,
      "outputs": [
        {
          "output_type": "execute_result",
          "data": {
            "text/plain": [
              "'Three'"
            ],
            "application/vnd.google.colaboratory.intrinsic+json": {
              "type": "string"
            }
          },
          "metadata": {},
          "execution_count": 295
        }
      ]
    },
    {
      "cell_type": "code",
      "source": [
        "availability=book_tag.find('p',class_='instock availability').text.strip('\\n  ')\n",
        "availability"
      ],
      "metadata": {
        "colab": {
          "base_uri": "https://localhost:8080/",
          "height": 36
        },
        "id": "VKtxbmffS5Bc",
        "outputId": "1c6c4c89-9b4a-403a-bbfc-0e0df57566a0"
      },
      "execution_count": null,
      "outputs": [
        {
          "output_type": "execute_result",
          "data": {
            "text/plain": [
              "'In stock'"
            ],
            "application/vnd.google.colaboratory.intrinsic+json": {
              "type": "string"
            }
          },
          "metadata": {},
          "execution_count": 296
        }
      ]
    },
    {
      "cell_type": "code",
      "source": [
        ""
      ],
      "metadata": {
        "id": "zhz-iXflUPgy"
      },
      "execution_count": null,
      "outputs": []
    },
    {
      "cell_type": "code",
      "source": [
        "def get_details(book_tag):\n",
        "    title = book_tag.find('a', title=True)['title']\n",
        "    rating = book_tag.find('p')['class'][1]\n",
        "    price = book_tag.find('p', class_='price_color').text[1:]\n",
        "    link = 'http://books.toscrape.com/' + book_tag.find('a')['href']\n",
        "    return title, rating, price, link"
      ],
      "metadata": {
        "id": "Kc3YS5bS4a0-"
      },
      "execution_count": null,
      "outputs": []
    },
    {
      "cell_type": "code",
      "source": [
        "def get_soup(url):\n",
        "    \"\"\"Takes URL and returns a soup object\"\"\"\n",
        "    resp = requests.get(url)\n",
        "    if resp.status_code == 200:\n",
        "        return bs(resp.text)\n",
        "    else: return None\n",
        "\n",
        "\n",
        "def get_books(url):\n",
        "    \"\"\"Extact details from all the book tags\"\"\"\n",
        "    soup = get_soup(url)\n",
        "    book_tags = soup.find_all('article', class_='product_pod')\n",
        "\n",
        "    books = []\n",
        "    for book_tag in book_tags:\n",
        "        books.append(get_details(book_tag))\n",
        "\n",
        "    return books\n"
      ],
      "metadata": {
        "id": "5kxVtNYp42ul"
      },
      "execution_count": null,
      "outputs": []
    },
    {
      "cell_type": "code",
      "source": [
        "url = 'http://books.toscrape.com/'\n",
        "books = get_books(url)\n",
        "len(books)"
      ],
      "metadata": {
        "colab": {
          "base_uri": "https://localhost:8080/"
        },
        "id": "ydmF8wOJ5Js5",
        "outputId": "8b1d1be6-ffbe-41ad-c9d4-fce8648e0e6a"
      },
      "execution_count": null,
      "outputs": [
        {
          "output_type": "execute_result",
          "data": {
            "text/plain": [
              "20"
            ]
          },
          "metadata": {},
          "execution_count": 301
        }
      ]
    },
    {
      "cell_type": "code",
      "source": [
        "[i.text.strip('>') for i in bs(requests.get(link).text).find_all('td') if '0' in i.text][-1]"
      ],
      "metadata": {
        "colab": {
          "base_uri": "https://localhost:8080/",
          "height": 36
        },
        "id": "tLQZNL-76yZ0",
        "outputId": "76fe6c2a-0de3-41c2-bc57-400b55fe7521"
      },
      "execution_count": null,
      "outputs": [
        {
          "output_type": "execute_result",
          "data": {
            "text/plain": [
              "'0'"
            ],
            "application/vnd.google.colaboratory.intrinsic+json": {
              "type": "string"
            }
          },
          "metadata": {},
          "execution_count": 418
        }
      ]
    },
    {
      "cell_type": "code",
      "source": [
        "excl_tax=[i.text.strip('\\n').split('Â') for i in bs(requests.get(books[0][-1]).text).find_all('tr') if 'excl' in i.text][0][-1]\n",
        "excl_tax"
      ],
      "metadata": {
        "colab": {
          "base_uri": "https://localhost:8080/",
          "height": 36
        },
        "id": "Pp1rhcdUr3oy",
        "outputId": "2e814e0d-35e2-4dbc-9ac6-7b62dac683e0"
      },
      "execution_count": null,
      "outputs": [
        {
          "output_type": "execute_result",
          "data": {
            "text/plain": [
              "'£51.77'"
            ],
            "application/vnd.google.colaboratory.intrinsic+json": {
              "type": "string"
            }
          },
          "metadata": {},
          "execution_count": 340
        }
      ]
    },
    {
      "cell_type": "code",
      "source": [
        "incl_tax=[i.text.strip('\\n').split('Â') for i in bs(requests.get(books[0][-1]).text).find_all('tr') if 'incl' in i.text][0][1]\n",
        "incl_tax"
      ],
      "metadata": {
        "colab": {
          "base_uri": "https://localhost:8080/",
          "height": 36
        },
        "id": "XVMbHLoLkRcx",
        "outputId": "9e3a5033-6042-4021-dd71-08815f521e22"
      },
      "execution_count": null,
      "outputs": [
        {
          "output_type": "execute_result",
          "data": {
            "text/plain": [
              "'£51.77'"
            ],
            "application/vnd.google.colaboratory.intrinsic+json": {
              "type": "string"
            }
          },
          "metadata": {},
          "execution_count": 318
        }
      ]
    },
    {
      "cell_type": "code",
      "source": [
        "[ i for i in bs(requests.get(books[0][-1]).text).find_all(['th','td']) ]"
      ],
      "metadata": {
        "colab": {
          "base_uri": "https://localhost:8080/"
        },
        "id": "YHt-c_qqursY",
        "outputId": "7ce9aa8d-544e-4ce8-da09-8e660082010b"
      },
      "execution_count": null,
      "outputs": [
        {
          "output_type": "execute_result",
          "data": {
            "text/plain": [
              "[<th>UPC</th>,\n",
              " <td>a897fe39b1053632</td>,\n",
              " <th>Product Type</th>,\n",
              " <td>Books</td>,\n",
              " <th>Price (excl. tax)</th>,\n",
              " <td>Â£51.77</td>,\n",
              " <th>Price (incl. tax)</th>,\n",
              " <td>Â£51.77</td>,\n",
              " <th>Tax</th>,\n",
              " <td>Â£0.00</td>,\n",
              " <th>Availability</th>,\n",
              " <td>In stock (22 available)</td>,\n",
              " <th>Number of reviews</th>,\n",
              " <td>0</td>]"
            ]
          },
          "metadata": {},
          "execution_count": 304
        }
      ]
    },
    {
      "cell_type": "code",
      "source": [
        "# bs(requests.get(books[0][-1].text).find_all('td'))"
      ],
      "metadata": {
        "id": "wMZuFi2t5Oys"
      },
      "execution_count": null,
      "outputs": []
    },
    {
      "cell_type": "code",
      "source": [
        "\n",
        "\n",
        "import pandas as pd\n",
        "\n",
        "def get_all_books(page = 3):\n",
        "    books = []\n",
        "    for i in range(1, page+1):\n",
        "        ## This is how the url changes with every page\n",
        "        url = f'http://books.toscrape.com/catalogue/page-{i}.html'\n",
        "        soup = get_soup(url)\n",
        "        if soup:    \n",
        "            book_tags = soup.find_all('article', class_='product_pod')\n",
        "\n",
        "            for book_tag in book_tags:\n",
        "                books.append(get_details(book_tag))\n",
        "            \n",
        "    books = pd.DataFrame(books, columns=['title', 'rating', 'price', 'link'])\n",
        "    return books"
      ],
      "metadata": {
        "id": "dqt52fRj5qgC"
      },
      "execution_count": null,
      "outputs": []
    },
    {
      "cell_type": "code",
      "source": [
        "df = get_all_books(3)\n",
        "df.head()"
      ],
      "metadata": {
        "colab": {
          "base_uri": "https://localhost:8080/",
          "height": 206
        },
        "id": "_BhtITR37BjK",
        "outputId": "125149a8-96f5-4382-c26f-1ec9a649933a"
      },
      "execution_count": null,
      "outputs": [
        {
          "output_type": "execute_result",
          "data": {
            "text/plain": [
              "                                   title rating   price  \\\n",
              "0                   A Light in the Attic  Three  £51.77   \n",
              "1                     Tipping the Velvet    One  £53.74   \n",
              "2                             Soumission    One  £50.10   \n",
              "3                          Sharp Objects   Four  £47.82   \n",
              "4  Sapiens: A Brief History of Humankind   Five  £54.23   \n",
              "\n",
              "                                                link  \n",
              "0  http://books.toscrape.com/a-light-in-the-attic...  \n",
              "1  http://books.toscrape.com/tipping-the-velvet_9...  \n",
              "2  http://books.toscrape.com/soumission_998/index...  \n",
              "3  http://books.toscrape.com/sharp-objects_997/in...  \n",
              "4  http://books.toscrape.com/sapiens-a-brief-hist...  "
            ],
            "text/html": [
              "\n",
              "  <div id=\"df-17318d1a-684d-40f9-b81f-41977ef81897\">\n",
              "    <div class=\"colab-df-container\">\n",
              "      <div>\n",
              "<style scoped>\n",
              "    .dataframe tbody tr th:only-of-type {\n",
              "        vertical-align: middle;\n",
              "    }\n",
              "\n",
              "    .dataframe tbody tr th {\n",
              "        vertical-align: top;\n",
              "    }\n",
              "\n",
              "    .dataframe thead th {\n",
              "        text-align: right;\n",
              "    }\n",
              "</style>\n",
              "<table border=\"1\" class=\"dataframe\">\n",
              "  <thead>\n",
              "    <tr style=\"text-align: right;\">\n",
              "      <th></th>\n",
              "      <th>title</th>\n",
              "      <th>rating</th>\n",
              "      <th>price</th>\n",
              "      <th>link</th>\n",
              "    </tr>\n",
              "  </thead>\n",
              "  <tbody>\n",
              "    <tr>\n",
              "      <th>0</th>\n",
              "      <td>A Light in the Attic</td>\n",
              "      <td>Three</td>\n",
              "      <td>£51.77</td>\n",
              "      <td>http://books.toscrape.com/a-light-in-the-attic...</td>\n",
              "    </tr>\n",
              "    <tr>\n",
              "      <th>1</th>\n",
              "      <td>Tipping the Velvet</td>\n",
              "      <td>One</td>\n",
              "      <td>£53.74</td>\n",
              "      <td>http://books.toscrape.com/tipping-the-velvet_9...</td>\n",
              "    </tr>\n",
              "    <tr>\n",
              "      <th>2</th>\n",
              "      <td>Soumission</td>\n",
              "      <td>One</td>\n",
              "      <td>£50.10</td>\n",
              "      <td>http://books.toscrape.com/soumission_998/index...</td>\n",
              "    </tr>\n",
              "    <tr>\n",
              "      <th>3</th>\n",
              "      <td>Sharp Objects</td>\n",
              "      <td>Four</td>\n",
              "      <td>£47.82</td>\n",
              "      <td>http://books.toscrape.com/sharp-objects_997/in...</td>\n",
              "    </tr>\n",
              "    <tr>\n",
              "      <th>4</th>\n",
              "      <td>Sapiens: A Brief History of Humankind</td>\n",
              "      <td>Five</td>\n",
              "      <td>£54.23</td>\n",
              "      <td>http://books.toscrape.com/sapiens-a-brief-hist...</td>\n",
              "    </tr>\n",
              "  </tbody>\n",
              "</table>\n",
              "</div>\n",
              "      <button class=\"colab-df-convert\" onclick=\"convertToInteractive('df-17318d1a-684d-40f9-b81f-41977ef81897')\"\n",
              "              title=\"Convert this dataframe to an interactive table.\"\n",
              "              style=\"display:none;\">\n",
              "        \n",
              "  <svg xmlns=\"http://www.w3.org/2000/svg\" height=\"24px\"viewBox=\"0 0 24 24\"\n",
              "       width=\"24px\">\n",
              "    <path d=\"M0 0h24v24H0V0z\" fill=\"none\"/>\n",
              "    <path d=\"M18.56 5.44l.94 2.06.94-2.06 2.06-.94-2.06-.94-.94-2.06-.94 2.06-2.06.94zm-11 1L8.5 8.5l.94-2.06 2.06-.94-2.06-.94L8.5 2.5l-.94 2.06-2.06.94zm10 10l.94 2.06.94-2.06 2.06-.94-2.06-.94-.94-2.06-.94 2.06-2.06.94z\"/><path d=\"M17.41 7.96l-1.37-1.37c-.4-.4-.92-.59-1.43-.59-.52 0-1.04.2-1.43.59L10.3 9.45l-7.72 7.72c-.78.78-.78 2.05 0 2.83L4 21.41c.39.39.9.59 1.41.59.51 0 1.02-.2 1.41-.59l7.78-7.78 2.81-2.81c.8-.78.8-2.07 0-2.86zM5.41 20L4 18.59l7.72-7.72 1.47 1.35L5.41 20z\"/>\n",
              "  </svg>\n",
              "      </button>\n",
              "      \n",
              "  <style>\n",
              "    .colab-df-container {\n",
              "      display:flex;\n",
              "      flex-wrap:wrap;\n",
              "      gap: 12px;\n",
              "    }\n",
              "\n",
              "    .colab-df-convert {\n",
              "      background-color: #E8F0FE;\n",
              "      border: none;\n",
              "      border-radius: 50%;\n",
              "      cursor: pointer;\n",
              "      display: none;\n",
              "      fill: #1967D2;\n",
              "      height: 32px;\n",
              "      padding: 0 0 0 0;\n",
              "      width: 32px;\n",
              "    }\n",
              "\n",
              "    .colab-df-convert:hover {\n",
              "      background-color: #E2EBFA;\n",
              "      box-shadow: 0px 1px 2px rgba(60, 64, 67, 0.3), 0px 1px 3px 1px rgba(60, 64, 67, 0.15);\n",
              "      fill: #174EA6;\n",
              "    }\n",
              "\n",
              "    [theme=dark] .colab-df-convert {\n",
              "      background-color: #3B4455;\n",
              "      fill: #D2E3FC;\n",
              "    }\n",
              "\n",
              "    [theme=dark] .colab-df-convert:hover {\n",
              "      background-color: #434B5C;\n",
              "      box-shadow: 0px 1px 3px 1px rgba(0, 0, 0, 0.15);\n",
              "      filter: drop-shadow(0px 1px 2px rgba(0, 0, 0, 0.3));\n",
              "      fill: #FFFFFF;\n",
              "    }\n",
              "  </style>\n",
              "\n",
              "      <script>\n",
              "        const buttonEl =\n",
              "          document.querySelector('#df-17318d1a-684d-40f9-b81f-41977ef81897 button.colab-df-convert');\n",
              "        buttonEl.style.display =\n",
              "          google.colab.kernel.accessAllowed ? 'block' : 'none';\n",
              "\n",
              "        async function convertToInteractive(key) {\n",
              "          const element = document.querySelector('#df-17318d1a-684d-40f9-b81f-41977ef81897');\n",
              "          const dataTable =\n",
              "            await google.colab.kernel.invokeFunction('convertToInteractive',\n",
              "                                                     [key], {});\n",
              "          if (!dataTable) return;\n",
              "\n",
              "          const docLinkHtml = 'Like what you see? Visit the ' +\n",
              "            '<a target=\"_blank\" href=https://colab.research.google.com/notebooks/data_table.ipynb>data table notebook</a>'\n",
              "            + ' to learn more about interactive tables.';\n",
              "          element.innerHTML = '';\n",
              "          dataTable['output_type'] = 'display_data';\n",
              "          await google.colab.output.renderOutput(dataTable, element);\n",
              "          const docLink = document.createElement('div');\n",
              "          docLink.innerHTML = docLinkHtml;\n",
              "          element.appendChild(docLink);\n",
              "        }\n",
              "      </script>\n",
              "    </div>\n",
              "  </div>\n",
              "  "
            ]
          },
          "metadata": {},
          "execution_count": 307
        }
      ]
    },
    {
      "cell_type": "code",
      "source": [
        "df.shape\n"
      ],
      "metadata": {
        "colab": {
          "base_uri": "https://localhost:8080/"
        },
        "id": "xpGH3Ruu7Fl0",
        "outputId": "4c8b2c76-89c0-4e61-80b3-fd52f5bfaa71"
      },
      "execution_count": null,
      "outputs": [
        {
          "output_type": "execute_result",
          "data": {
            "text/plain": [
              "(60, 4)"
            ]
          },
          "metadata": {},
          "execution_count": 308
        }
      ]
    },
    {
      "cell_type": "code",
      "source": [
        "\n",
        "\n",
        "\n",
        "\n",
        "import time\n",
        "import requests\n",
        "import pandas as pd\n",
        "from bs4 import BeautifulSoup as bs\n",
        "\n",
        "def get_soup(url):\n",
        "    \"\"\"Takes URL and returns a soup object\"\"\"\n",
        "    try:\n",
        "        resp = requests.get(url)\n",
        "    except:\n",
        "        return None\n",
        "    \n",
        "    if resp.status_code == 200:\n",
        "        return bs(resp.text)\n",
        "    else: \n",
        "        return None\n",
        "\n",
        "\n",
        "def get_details(book_tag):\n",
        "\n",
        "    ## title\n",
        "    try:\n",
        "        title = book_tag.find('a', title=True)['title']\n",
        "    except:\n",
        "        title = None\n",
        "        \n",
        "    ## rating\n",
        "    try: \n",
        "        rating = book_tag.find('p')['class'][1]\n",
        "    except: \n",
        "        rating = None \n",
        "        \n",
        "    ## Price\n",
        "    try: \n",
        "        price = book_tag.find('p', class_='price_color').text[1:]\n",
        "    except:\n",
        "        price = None\n",
        "    \n",
        "    ## Link\n",
        "    try:\n",
        "        link = 'http://books.toscrape.com/'+'catalogue/' + book_tag.find('a')['href']\n",
        "        # print(link)\n",
        "        incl_tax=[i.text.strip('\\n').split('Â') for i in bs(requests.get(link).text).find_all('tr') if 'incl' in i.text][0][1]\n",
        "        excl_tax=[i.text.strip('\\n').split('Â') for i in bs(requests.get(link).text).find_all('tr') if 'excl' in i.text][0][-1]\n",
        "        reviews=[i.text.strip('>') for i in bs(requests.get(link).text).find_all('td') if '0' in i.text][-1]\n",
        "        # incl_tax=bs(requests.get(link).text).find_all('tr') \n",
        "        # print(incl_tax)\n",
        "        # print(link)\n",
        "        # print(reviews)\n",
        "    except:\n",
        "        price = None\n",
        "    try:\n",
        "      availability=book_tag.find('p',class_='instock availability').text.strip('\\n  ')\n",
        "    except:\n",
        "      availability=None\n",
        "    return title ,rating,price,link,availability,incl_tax,excl_tax,reviews\n",
        "\n",
        "def get_all_books(page = 3):\n",
        "    books = []\n",
        "    for i in range(1, page+1):\n",
        "        url = f'http://books.toscrape.com/catalogue/page-{i}.html'\n",
        "        soup = get_soup(url)\n",
        "        if soup:    \n",
        "            try:\n",
        "                book_tags = soup.find_all('article', class_='product_pod')\n",
        "\n",
        "                for book_tag in book_tags:\n",
        "                    books.append(get_details(book_tag))\n",
        "            except:\n",
        "                print(f'Error reading page {i} . . .')\n",
        "\n",
        "            # time.sleep(1) # sleep before making the next request\n",
        "\n",
        "    books = pd.DataFrame(books, columns=['title', 'rating', 'price', 'link','availability','incl_tax','excl_tax','Number of reviews'])\n",
        "    return books"
      ],
      "metadata": {
        "id": "Angk534P7Ldd"
      },
      "execution_count": null,
      "outputs": []
    },
    {
      "cell_type": "code",
      "source": [
        "link='http://books.toscrape.com/catalogue/shakespeares-sonnets_989/index.html'\n",
        "incl_tax=bs(requests.get(link).content).find('td')\n",
        "print(incl_tax)"
      ],
      "metadata": {
        "colab": {
          "base_uri": "https://localhost:8080/"
        },
        "id": "y8COagF68prT",
        "outputId": "0883ff92-61a6-45cd-9bfb-911af61a19e2"
      },
      "execution_count": null,
      "outputs": [
        {
          "output_type": "stream",
          "name": "stdout",
          "text": [
            "<td>30a7f60cd76ca58c</td>\n"
          ]
        }
      ]
    },
    {
      "cell_type": "code",
      "source": [
        "\n",
        "df = get_all_books(1) # 20 books x 50 pages = 1000 books\n",
        "df"
      ],
      "metadata": {
        "colab": {
          "base_uri": "https://localhost:8080/",
          "height": 676
        },
        "id": "bsso1IzY74tZ",
        "outputId": "251a9fd2-eea7-438c-e7a5-7cf972598839"
      },
      "execution_count": null,
      "outputs": [
        {
          "output_type": "execute_result",
          "data": {
            "text/plain": [
              "                                                title rating   price  \\\n",
              "0                                A Light in the Attic  Three  £51.77   \n",
              "1                                  Tipping the Velvet    One  £53.74   \n",
              "2                                          Soumission    One  £50.10   \n",
              "3                                       Sharp Objects   Four  £47.82   \n",
              "4               Sapiens: A Brief History of Humankind   Five  £54.23   \n",
              "5                                     The Requiem Red    One  £22.65   \n",
              "6   The Dirty Little Secrets of Getting Your Dream...   Four  £33.34   \n",
              "7   The Coming Woman: A Novel Based on the Life of...  Three  £17.93   \n",
              "8   The Boys in the Boat: Nine Americans and Their...   Four  £22.60   \n",
              "9                                     The Black Maria    One  £52.15   \n",
              "10     Starving Hearts (Triangular Trade Trilogy, #1)    Two  £13.99   \n",
              "11                              Shakespeare's Sonnets   Four  £20.66   \n",
              "12                                        Set Me Free   Five  £17.46   \n",
              "13  Scott Pilgrim's Precious Little Life (Scott Pi...   Five  £52.29   \n",
              "14                          Rip it Up and Start Again   Five  £35.02   \n",
              "15  Our Band Could Be Your Life: Scenes from the A...  Three  £57.25   \n",
              "16                                               Olio    One  £23.88   \n",
              "17  Mesaerion: The Best Science Fiction Stories 18...    One  £37.59   \n",
              "18                       Libertarianism for Beginners    Two  £51.33   \n",
              "19                            It's Only the Himalayas    Two  £45.17   \n",
              "\n",
              "                                                 link availability incl_tax  \\\n",
              "0   http://books.toscrape.com/catalogue/a-light-in...     In stock   £51.77   \n",
              "1   http://books.toscrape.com/catalogue/tipping-th...     In stock   £53.74   \n",
              "2   http://books.toscrape.com/catalogue/soumission...     In stock   £50.10   \n",
              "3   http://books.toscrape.com/catalogue/sharp-obje...     In stock   £47.82   \n",
              "4   http://books.toscrape.com/catalogue/sapiens-a-...     In stock   £54.23   \n",
              "5   http://books.toscrape.com/catalogue/the-requie...     In stock   £22.65   \n",
              "6   http://books.toscrape.com/catalogue/the-dirty-...     In stock   £33.34   \n",
              "7   http://books.toscrape.com/catalogue/the-coming...     In stock   £17.93   \n",
              "8   http://books.toscrape.com/catalogue/the-boys-i...     In stock   £22.60   \n",
              "9   http://books.toscrape.com/catalogue/the-black-...     In stock   £52.15   \n",
              "10  http://books.toscrape.com/catalogue/starving-h...     In stock   £13.99   \n",
              "11  http://books.toscrape.com/catalogue/shakespear...     In stock   £20.66   \n",
              "12  http://books.toscrape.com/catalogue/set-me-fre...     In stock   £17.46   \n",
              "13  http://books.toscrape.com/catalogue/scott-pilg...     In stock   £52.29   \n",
              "14  http://books.toscrape.com/catalogue/rip-it-up-...     In stock   £35.02   \n",
              "15  http://books.toscrape.com/catalogue/our-band-c...     In stock   £57.25   \n",
              "16  http://books.toscrape.com/catalogue/olio_984/i...     In stock   £23.88   \n",
              "17  http://books.toscrape.com/catalogue/mesaerion-...     In stock   £37.59   \n",
              "18  http://books.toscrape.com/catalogue/libertaria...     In stock   £51.33   \n",
              "19  http://books.toscrape.com/catalogue/its-only-t...     In stock   £45.17   \n",
              "\n",
              "   excl_tax Number of reviews  \n",
              "0    £51.77                 0  \n",
              "1    £53.74                 0  \n",
              "2    £50.10                 0  \n",
              "3    £47.82                 0  \n",
              "4    £54.23                 0  \n",
              "5    £22.65                 0  \n",
              "6    £33.34                 0  \n",
              "7    £17.93                 0  \n",
              "8    £22.60                 0  \n",
              "9    £52.15                 0  \n",
              "10   £13.99                 0  \n",
              "11   £20.66                 0  \n",
              "12   £17.46                 0  \n",
              "13   £52.29                 0  \n",
              "14   £35.02                 0  \n",
              "15   £57.25                 0  \n",
              "16   £23.88                 0  \n",
              "17   £37.59                 0  \n",
              "18   £51.33                 0  \n",
              "19   £45.17                 0  "
            ],
            "text/html": [
              "\n",
              "  <div id=\"df-29b5cb8e-28ae-4c44-9133-34412d0318ac\">\n",
              "    <div class=\"colab-df-container\">\n",
              "      <div>\n",
              "<style scoped>\n",
              "    .dataframe tbody tr th:only-of-type {\n",
              "        vertical-align: middle;\n",
              "    }\n",
              "\n",
              "    .dataframe tbody tr th {\n",
              "        vertical-align: top;\n",
              "    }\n",
              "\n",
              "    .dataframe thead th {\n",
              "        text-align: right;\n",
              "    }\n",
              "</style>\n",
              "<table border=\"1\" class=\"dataframe\">\n",
              "  <thead>\n",
              "    <tr style=\"text-align: right;\">\n",
              "      <th></th>\n",
              "      <th>title</th>\n",
              "      <th>rating</th>\n",
              "      <th>price</th>\n",
              "      <th>link</th>\n",
              "      <th>availability</th>\n",
              "      <th>incl_tax</th>\n",
              "      <th>excl_tax</th>\n",
              "      <th>Number of reviews</th>\n",
              "    </tr>\n",
              "  </thead>\n",
              "  <tbody>\n",
              "    <tr>\n",
              "      <th>0</th>\n",
              "      <td>A Light in the Attic</td>\n",
              "      <td>Three</td>\n",
              "      <td>£51.77</td>\n",
              "      <td>http://books.toscrape.com/catalogue/a-light-in...</td>\n",
              "      <td>In stock</td>\n",
              "      <td>£51.77</td>\n",
              "      <td>£51.77</td>\n",
              "      <td>0</td>\n",
              "    </tr>\n",
              "    <tr>\n",
              "      <th>1</th>\n",
              "      <td>Tipping the Velvet</td>\n",
              "      <td>One</td>\n",
              "      <td>£53.74</td>\n",
              "      <td>http://books.toscrape.com/catalogue/tipping-th...</td>\n",
              "      <td>In stock</td>\n",
              "      <td>£53.74</td>\n",
              "      <td>£53.74</td>\n",
              "      <td>0</td>\n",
              "    </tr>\n",
              "    <tr>\n",
              "      <th>2</th>\n",
              "      <td>Soumission</td>\n",
              "      <td>One</td>\n",
              "      <td>£50.10</td>\n",
              "      <td>http://books.toscrape.com/catalogue/soumission...</td>\n",
              "      <td>In stock</td>\n",
              "      <td>£50.10</td>\n",
              "      <td>£50.10</td>\n",
              "      <td>0</td>\n",
              "    </tr>\n",
              "    <tr>\n",
              "      <th>3</th>\n",
              "      <td>Sharp Objects</td>\n",
              "      <td>Four</td>\n",
              "      <td>£47.82</td>\n",
              "      <td>http://books.toscrape.com/catalogue/sharp-obje...</td>\n",
              "      <td>In stock</td>\n",
              "      <td>£47.82</td>\n",
              "      <td>£47.82</td>\n",
              "      <td>0</td>\n",
              "    </tr>\n",
              "    <tr>\n",
              "      <th>4</th>\n",
              "      <td>Sapiens: A Brief History of Humankind</td>\n",
              "      <td>Five</td>\n",
              "      <td>£54.23</td>\n",
              "      <td>http://books.toscrape.com/catalogue/sapiens-a-...</td>\n",
              "      <td>In stock</td>\n",
              "      <td>£54.23</td>\n",
              "      <td>£54.23</td>\n",
              "      <td>0</td>\n",
              "    </tr>\n",
              "    <tr>\n",
              "      <th>5</th>\n",
              "      <td>The Requiem Red</td>\n",
              "      <td>One</td>\n",
              "      <td>£22.65</td>\n",
              "      <td>http://books.toscrape.com/catalogue/the-requie...</td>\n",
              "      <td>In stock</td>\n",
              "      <td>£22.65</td>\n",
              "      <td>£22.65</td>\n",
              "      <td>0</td>\n",
              "    </tr>\n",
              "    <tr>\n",
              "      <th>6</th>\n",
              "      <td>The Dirty Little Secrets of Getting Your Dream...</td>\n",
              "      <td>Four</td>\n",
              "      <td>£33.34</td>\n",
              "      <td>http://books.toscrape.com/catalogue/the-dirty-...</td>\n",
              "      <td>In stock</td>\n",
              "      <td>£33.34</td>\n",
              "      <td>£33.34</td>\n",
              "      <td>0</td>\n",
              "    </tr>\n",
              "    <tr>\n",
              "      <th>7</th>\n",
              "      <td>The Coming Woman: A Novel Based on the Life of...</td>\n",
              "      <td>Three</td>\n",
              "      <td>£17.93</td>\n",
              "      <td>http://books.toscrape.com/catalogue/the-coming...</td>\n",
              "      <td>In stock</td>\n",
              "      <td>£17.93</td>\n",
              "      <td>£17.93</td>\n",
              "      <td>0</td>\n",
              "    </tr>\n",
              "    <tr>\n",
              "      <th>8</th>\n",
              "      <td>The Boys in the Boat: Nine Americans and Their...</td>\n",
              "      <td>Four</td>\n",
              "      <td>£22.60</td>\n",
              "      <td>http://books.toscrape.com/catalogue/the-boys-i...</td>\n",
              "      <td>In stock</td>\n",
              "      <td>£22.60</td>\n",
              "      <td>£22.60</td>\n",
              "      <td>0</td>\n",
              "    </tr>\n",
              "    <tr>\n",
              "      <th>9</th>\n",
              "      <td>The Black Maria</td>\n",
              "      <td>One</td>\n",
              "      <td>£52.15</td>\n",
              "      <td>http://books.toscrape.com/catalogue/the-black-...</td>\n",
              "      <td>In stock</td>\n",
              "      <td>£52.15</td>\n",
              "      <td>£52.15</td>\n",
              "      <td>0</td>\n",
              "    </tr>\n",
              "    <tr>\n",
              "      <th>10</th>\n",
              "      <td>Starving Hearts (Triangular Trade Trilogy, #1)</td>\n",
              "      <td>Two</td>\n",
              "      <td>£13.99</td>\n",
              "      <td>http://books.toscrape.com/catalogue/starving-h...</td>\n",
              "      <td>In stock</td>\n",
              "      <td>£13.99</td>\n",
              "      <td>£13.99</td>\n",
              "      <td>0</td>\n",
              "    </tr>\n",
              "    <tr>\n",
              "      <th>11</th>\n",
              "      <td>Shakespeare's Sonnets</td>\n",
              "      <td>Four</td>\n",
              "      <td>£20.66</td>\n",
              "      <td>http://books.toscrape.com/catalogue/shakespear...</td>\n",
              "      <td>In stock</td>\n",
              "      <td>£20.66</td>\n",
              "      <td>£20.66</td>\n",
              "      <td>0</td>\n",
              "    </tr>\n",
              "    <tr>\n",
              "      <th>12</th>\n",
              "      <td>Set Me Free</td>\n",
              "      <td>Five</td>\n",
              "      <td>£17.46</td>\n",
              "      <td>http://books.toscrape.com/catalogue/set-me-fre...</td>\n",
              "      <td>In stock</td>\n",
              "      <td>£17.46</td>\n",
              "      <td>£17.46</td>\n",
              "      <td>0</td>\n",
              "    </tr>\n",
              "    <tr>\n",
              "      <th>13</th>\n",
              "      <td>Scott Pilgrim's Precious Little Life (Scott Pi...</td>\n",
              "      <td>Five</td>\n",
              "      <td>£52.29</td>\n",
              "      <td>http://books.toscrape.com/catalogue/scott-pilg...</td>\n",
              "      <td>In stock</td>\n",
              "      <td>£52.29</td>\n",
              "      <td>£52.29</td>\n",
              "      <td>0</td>\n",
              "    </tr>\n",
              "    <tr>\n",
              "      <th>14</th>\n",
              "      <td>Rip it Up and Start Again</td>\n",
              "      <td>Five</td>\n",
              "      <td>£35.02</td>\n",
              "      <td>http://books.toscrape.com/catalogue/rip-it-up-...</td>\n",
              "      <td>In stock</td>\n",
              "      <td>£35.02</td>\n",
              "      <td>£35.02</td>\n",
              "      <td>0</td>\n",
              "    </tr>\n",
              "    <tr>\n",
              "      <th>15</th>\n",
              "      <td>Our Band Could Be Your Life: Scenes from the A...</td>\n",
              "      <td>Three</td>\n",
              "      <td>£57.25</td>\n",
              "      <td>http://books.toscrape.com/catalogue/our-band-c...</td>\n",
              "      <td>In stock</td>\n",
              "      <td>£57.25</td>\n",
              "      <td>£57.25</td>\n",
              "      <td>0</td>\n",
              "    </tr>\n",
              "    <tr>\n",
              "      <th>16</th>\n",
              "      <td>Olio</td>\n",
              "      <td>One</td>\n",
              "      <td>£23.88</td>\n",
              "      <td>http://books.toscrape.com/catalogue/olio_984/i...</td>\n",
              "      <td>In stock</td>\n",
              "      <td>£23.88</td>\n",
              "      <td>£23.88</td>\n",
              "      <td>0</td>\n",
              "    </tr>\n",
              "    <tr>\n",
              "      <th>17</th>\n",
              "      <td>Mesaerion: The Best Science Fiction Stories 18...</td>\n",
              "      <td>One</td>\n",
              "      <td>£37.59</td>\n",
              "      <td>http://books.toscrape.com/catalogue/mesaerion-...</td>\n",
              "      <td>In stock</td>\n",
              "      <td>£37.59</td>\n",
              "      <td>£37.59</td>\n",
              "      <td>0</td>\n",
              "    </tr>\n",
              "    <tr>\n",
              "      <th>18</th>\n",
              "      <td>Libertarianism for Beginners</td>\n",
              "      <td>Two</td>\n",
              "      <td>£51.33</td>\n",
              "      <td>http://books.toscrape.com/catalogue/libertaria...</td>\n",
              "      <td>In stock</td>\n",
              "      <td>£51.33</td>\n",
              "      <td>£51.33</td>\n",
              "      <td>0</td>\n",
              "    </tr>\n",
              "    <tr>\n",
              "      <th>19</th>\n",
              "      <td>It's Only the Himalayas</td>\n",
              "      <td>Two</td>\n",
              "      <td>£45.17</td>\n",
              "      <td>http://books.toscrape.com/catalogue/its-only-t...</td>\n",
              "      <td>In stock</td>\n",
              "      <td>£45.17</td>\n",
              "      <td>£45.17</td>\n",
              "      <td>0</td>\n",
              "    </tr>\n",
              "  </tbody>\n",
              "</table>\n",
              "</div>\n",
              "      <button class=\"colab-df-convert\" onclick=\"convertToInteractive('df-29b5cb8e-28ae-4c44-9133-34412d0318ac')\"\n",
              "              title=\"Convert this dataframe to an interactive table.\"\n",
              "              style=\"display:none;\">\n",
              "        \n",
              "  <svg xmlns=\"http://www.w3.org/2000/svg\" height=\"24px\"viewBox=\"0 0 24 24\"\n",
              "       width=\"24px\">\n",
              "    <path d=\"M0 0h24v24H0V0z\" fill=\"none\"/>\n",
              "    <path d=\"M18.56 5.44l.94 2.06.94-2.06 2.06-.94-2.06-.94-.94-2.06-.94 2.06-2.06.94zm-11 1L8.5 8.5l.94-2.06 2.06-.94-2.06-.94L8.5 2.5l-.94 2.06-2.06.94zm10 10l.94 2.06.94-2.06 2.06-.94-2.06-.94-.94-2.06-.94 2.06-2.06.94z\"/><path d=\"M17.41 7.96l-1.37-1.37c-.4-.4-.92-.59-1.43-.59-.52 0-1.04.2-1.43.59L10.3 9.45l-7.72 7.72c-.78.78-.78 2.05 0 2.83L4 21.41c.39.39.9.59 1.41.59.51 0 1.02-.2 1.41-.59l7.78-7.78 2.81-2.81c.8-.78.8-2.07 0-2.86zM5.41 20L4 18.59l7.72-7.72 1.47 1.35L5.41 20z\"/>\n",
              "  </svg>\n",
              "      </button>\n",
              "      \n",
              "  <style>\n",
              "    .colab-df-container {\n",
              "      display:flex;\n",
              "      flex-wrap:wrap;\n",
              "      gap: 12px;\n",
              "    }\n",
              "\n",
              "    .colab-df-convert {\n",
              "      background-color: #E8F0FE;\n",
              "      border: none;\n",
              "      border-radius: 50%;\n",
              "      cursor: pointer;\n",
              "      display: none;\n",
              "      fill: #1967D2;\n",
              "      height: 32px;\n",
              "      padding: 0 0 0 0;\n",
              "      width: 32px;\n",
              "    }\n",
              "\n",
              "    .colab-df-convert:hover {\n",
              "      background-color: #E2EBFA;\n",
              "      box-shadow: 0px 1px 2px rgba(60, 64, 67, 0.3), 0px 1px 3px 1px rgba(60, 64, 67, 0.15);\n",
              "      fill: #174EA6;\n",
              "    }\n",
              "\n",
              "    [theme=dark] .colab-df-convert {\n",
              "      background-color: #3B4455;\n",
              "      fill: #D2E3FC;\n",
              "    }\n",
              "\n",
              "    [theme=dark] .colab-df-convert:hover {\n",
              "      background-color: #434B5C;\n",
              "      box-shadow: 0px 1px 3px 1px rgba(0, 0, 0, 0.15);\n",
              "      filter: drop-shadow(0px 1px 2px rgba(0, 0, 0, 0.3));\n",
              "      fill: #FFFFFF;\n",
              "    }\n",
              "  </style>\n",
              "\n",
              "      <script>\n",
              "        const buttonEl =\n",
              "          document.querySelector('#df-29b5cb8e-28ae-4c44-9133-34412d0318ac button.colab-df-convert');\n",
              "        buttonEl.style.display =\n",
              "          google.colab.kernel.accessAllowed ? 'block' : 'none';\n",
              "\n",
              "        async function convertToInteractive(key) {\n",
              "          const element = document.querySelector('#df-29b5cb8e-28ae-4c44-9133-34412d0318ac');\n",
              "          const dataTable =\n",
              "            await google.colab.kernel.invokeFunction('convertToInteractive',\n",
              "                                                     [key], {});\n",
              "          if (!dataTable) return;\n",
              "\n",
              "          const docLinkHtml = 'Like what you see? Visit the ' +\n",
              "            '<a target=\"_blank\" href=https://colab.research.google.com/notebooks/data_table.ipynb>data table notebook</a>'\n",
              "            + ' to learn more about interactive tables.';\n",
              "          element.innerHTML = '';\n",
              "          dataTable['output_type'] = 'display_data';\n",
              "          await google.colab.output.renderOutput(dataTable, element);\n",
              "          const docLink = document.createElement('div');\n",
              "          docLink.innerHTML = docLinkHtml;\n",
              "          element.appendChild(docLink);\n",
              "        }\n",
              "      </script>\n",
              "    </div>\n",
              "  </div>\n",
              "  "
            ]
          },
          "metadata": {},
          "execution_count": 430
        }
      ]
    },
    {
      "cell_type": "code",
      "source": [
        "df.shape"
      ],
      "metadata": {
        "colab": {
          "base_uri": "https://localhost:8080/"
        },
        "id": "6Ych-vrt76ca",
        "outputId": "0e236af6-2984-4502-d7c5-98efa402e41e"
      },
      "execution_count": null,
      "outputs": [
        {
          "output_type": "execute_result",
          "data": {
            "text/plain": [
              "(20, 8)"
            ]
          },
          "metadata": {},
          "execution_count": 431
        }
      ]
    }
  ]
}