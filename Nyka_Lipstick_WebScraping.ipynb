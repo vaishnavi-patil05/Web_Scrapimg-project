{
  "nbformat": 4,
  "nbformat_minor": 0,
  "metadata": {
    "colab": {
      "name": "Nyka_Lipstick_WebScraping",
      "provenance": [],
      "authorship_tag": "ABX9TyOvbHgaZgW/R7F5w35SVnUY",
      "include_colab_link": true
    },
    "kernelspec": {
      "name": "python3",
      "display_name": "Python 3"
    },
    "language_info": {
      "name": "python"
    }
  },
  "cells": [
    {
      "cell_type": "markdown",
      "metadata": {
        "id": "view-in-github",
        "colab_type": "text"
      },
      "source": [
        "<a href=\"https://colab.research.google.com/github/vaishnavi-patil05/Web_Scrapimg-project/blob/main/Nyka_Lipstick_WebScraping.ipynb\" target=\"_parent\"><img src=\"https://colab.research.google.com/assets/colab-badge.svg\" alt=\"Open In Colab\"/></a>"
      ]
    },
    {
      "cell_type": "code",
      "execution_count": null,
      "metadata": {
        "id": "Lp6SNwjiQ2gf"
      },
      "outputs": [],
      "source": [
        "from bs4 import BeautifulSoup as bs\n"
      ]
    },
    {
      "cell_type": "code",
      "source": [
        "import requests\n",
        "import numpy as np\n",
        "import  pandas as pd\n",
        "import seaborn as sns\n",
        "import matplotlib.pyplot as plt"
      ],
      "metadata": {
        "id": "ihxJVfKrQ9sh"
      },
      "execution_count": null,
      "outputs": []
    },
    {
      "cell_type": "code",
      "source": [
        "url = 'https://www.nykaa.com/makeup/lips/lipstick/c/249'\n",
        "response = requests.get(url)\n",
        "response"
      ],
      "metadata": {
        "colab": {
          "base_uri": "https://localhost:8080/"
        },
        "id": "z4z53vW9REMd",
        "outputId": "27aade7f-7141-4ce7-df7a-059ec2ecdef4"
      },
      "execution_count": null,
      "outputs": [
        {
          "output_type": "execute_result",
          "data": {
            "text/plain": [
              "<Response [200]>"
            ]
          },
          "metadata": {},
          "execution_count": 36
        }
      ]
    },
    {
      "cell_type": "code",
      "source": [
        "response.status_code"
      ],
      "metadata": {
        "colab": {
          "base_uri": "https://localhost:8080/"
        },
        "id": "g_wmiXtNRISW",
        "outputId": "d0bbf85e-7a9f-429d-e047-01e210cf74d9"
      },
      "execution_count": null,
      "outputs": [
        {
          "output_type": "execute_result",
          "data": {
            "text/plain": [
              "200"
            ]
          },
          "metadata": {},
          "execution_count": 37
        }
      ]
    },
    {
      "cell_type": "code",
      "source": [
        "type(response.text)\n"
      ],
      "metadata": {
        "colab": {
          "base_uri": "https://localhost:8080/"
        },
        "id": "3QF8hVm7RL8t",
        "outputId": "a894c7c1-54c5-48d3-ace9-44958626af1c"
      },
      "execution_count": null,
      "outputs": [
        {
          "output_type": "execute_result",
          "data": {
            "text/plain": [
              "str"
            ]
          },
          "metadata": {},
          "execution_count": 38
        }
      ]
    },
    {
      "cell_type": "code",
      "source": [
        "soup = bs(response.text)\n",
        "type(soup)"
      ],
      "metadata": {
        "colab": {
          "base_uri": "https://localhost:8080/"
        },
        "id": "cfjriuzpROcU",
        "outputId": "1d0cfeba-f1ed-4638-c9d6-85b00dc2a91d"
      },
      "execution_count": null,
      "outputs": [
        {
          "output_type": "execute_result",
          "data": {
            "text/plain": [
              "bs4.BeautifulSoup"
            ]
          },
          "metadata": {},
          "execution_count": 39
        }
      ]
    },
    {
      "cell_type": "code",
      "source": [
        "soup = bs(response.text)\n",
        "type(soup)"
      ],
      "metadata": {
        "colab": {
          "base_uri": "https://localhost:8080/"
        },
        "id": "pBzaMlufRSF9",
        "outputId": "6fb72028-7533-4547-89be-296f45142750"
      },
      "execution_count": null,
      "outputs": [
        {
          "output_type": "execute_result",
          "data": {
            "text/plain": [
              "bs4.BeautifulSoup"
            ]
          },
          "metadata": {},
          "execution_count": 40
        }
      ]
    },
    {
      "cell_type": "code",
      "source": [
        "soup.find('title').text"
      ],
      "metadata": {
        "colab": {
          "base_uri": "https://localhost:8080/",
          "height": 36
        },
        "id": "vqS7O3ZhRXF3",
        "outputId": "50548484-32fe-4b5a-e2f6-2a984d4e95ca"
      },
      "execution_count": null,
      "outputs": [
        {
          "output_type": "execute_result",
          "data": {
            "text/plain": [
              "'Lipsticks - Buy Lipstick Online at Best Price in India | Nykaa'"
            ],
            "application/vnd.google.colaboratory.intrinsic+json": {
              "type": "string"
            }
          },
          "metadata": {},
          "execution_count": 41
        }
      ]
    },
    {
      "cell_type": "code",
      "source": [
        "name=[i.text for i in soup.find_all('div',class_='css-xrzmfa')]\n",
        "name"
      ],
      "metadata": {
        "colab": {
          "base_uri": "https://localhost:8080/"
        },
        "id": "vCT51h48RbAV",
        "outputId": "d053c119-884e-4147-9ec6-bcc73873a49a"
      },
      "execution_count": null,
      "outputs": [
        {
          "output_type": "execute_result",
          "data": {
            "text/plain": [
              "['Nykaa So Creme! Creamy Matte Lipstick',\n",
              " 'Maybelline New York Color Sensational Ultimattes Lipstick',\n",
              " 'Faces Canada Ultime Pro Hd Intense Matte Lips + Primer',\n",
              " 'Kay Beauty Matte Drama Long Stay Lipstick',\n",
              " 'NYX Professional Makeup Powder Puff Lippie Cream',\n",
              " 'M.A.C Retro Matte Lipstick - Ruby Woo',\n",
              " 'Belora Paris Deepest Hd Matte',\n",
              " 'Just Herbs Ayurvedic Matte Lipstick Micro-Mini Trial Kit',\n",
              " 'Max Factor Colour Elixir Lipstick',\n",
              " 'Maybelline New York Color Sensational Creamy Matte Lipstick',\n",
              " 'Lakme Forever Matte Liquid Lip Color',\n",
              " 'Lakme 9 To 5 Primer + Matte Lipstick',\n",
              " 'M.A.C Lipstick / Mini',\n",
              " 'Lakme 9 to 5 Weightless Matte Mousse Lip & Cheek Color',\n",
              " 'SUGAR Cosmetics Matte Attack Transferproof Lipstick',\n",
              " 'Nykaa Ultra Matte Mini Lipstick',\n",
              " 'Elle 18 Color Pop Matte Lip Color',\n",
              " 'Love Earth Multipot Lip and Cheek Tint',\n",
              " 'Kay Beauty Matteinee Matte Lip Crayon Lipstick',\n",
              " 'SUGAR Matte As Hell Crayon Lipstick With Free Sharpener']"
            ]
          },
          "metadata": {},
          "execution_count": 42
        }
      ]
    },
    {
      "cell_type": "code",
      "source": [
        "original_price=[(i.text).strip('MRP:') for i in soup.find_all('span',class_=\"css-17x46n5\")]\n",
        "original_price"
      ],
      "metadata": {
        "colab": {
          "base_uri": "https://localhost:8080/"
        },
        "id": "cYqN0K6gRen2",
        "outputId": "4856eca5-f2d9-457e-b016-ad5abc65dfc6"
      },
      "execution_count": null,
      "outputs": [
        {
          "output_type": "execute_result",
          "data": {
            "text/plain": [
              "['₹299',\n",
              " '₹549',\n",
              " '₹799',\n",
              " '',\n",
              " '₹650',\n",
              " '',\n",
              " '₹699',\n",
              " '₹575',\n",
              " '₹800',\n",
              " '₹299',\n",
              " '',\n",
              " '₹500',\n",
              " '',\n",
              " '₹675',\n",
              " '₹699',\n",
              " '',\n",
              " '',\n",
              " '₹599',\n",
              " '₹799',\n",
              " '₹799']"
            ]
          },
          "metadata": {},
          "execution_count": 43
        }
      ]
    },
    {
      "cell_type": "code",
      "source": [
        "Discount_price=[i.text for i in soup.find_all('span',class_=\"css-111z9ua\")]\n",
        "Discount_price"
      ],
      "metadata": {
        "colab": {
          "base_uri": "https://localhost:8080/"
        },
        "id": "SBrWXrGcRe2N",
        "outputId": "46393df8-c3ab-4bec-d14d-126b04f0fe41"
      },
      "execution_count": null,
      "outputs": [
        {
          "output_type": "execute_result",
          "data": {
            "text/plain": [
              "['₹239',\n",
              " '₹410',\n",
              " '₹639',\n",
              " '₹999',\n",
              " '₹455',\n",
              " '₹1750',\n",
              " '₹419',\n",
              " '₹460',\n",
              " '₹600',\n",
              " '₹239',\n",
              " '₹295',\n",
              " '₹425',\n",
              " '₹1050',\n",
              " '₹608',\n",
              " '₹559',\n",
              " '₹239',\n",
              " '₹80',\n",
              " '₹299',\n",
              " '₹639',\n",
              " '₹719']"
            ]
          },
          "metadata": {},
          "execution_count": 44
        }
      ]
    },
    {
      "cell_type": "code",
      "source": [
        "gifts=[ i.find('p',class_='css-i6xqbh').text if i.find('p',class_='css-i6xqbh') else np.NaN for i in soup.find_all('div',class_='css-1rd7vky') ]\n",
        "gifts"
      ],
      "metadata": {
        "colab": {
          "base_uri": "https://localhost:8080/"
        },
        "id": "2FFp6q2eRe42",
        "outputId": "6db3730d-6380-4181-c27a-67018c658b98"
      },
      "execution_count": null,
      "outputs": [
        {
          "output_type": "execute_result",
          "data": {
            "text/plain": [
              "['Get Free Product',\n",
              " nan,\n",
              " nan,\n",
              " nan,\n",
              " nan,\n",
              " nan,\n",
              " 'Enjoy Free Gift',\n",
              " 'Extra 10% Off',\n",
              " 'Enjoy Free Gift',\n",
              " nan,\n",
              " nan,\n",
              " nan,\n",
              " nan,\n",
              " nan,\n",
              " 'Enjoy Free Gift',\n",
              " 'Get Free Product',\n",
              " nan,\n",
              " nan,\n",
              " nan,\n",
              " 'Enjoy Free Gift']"
            ]
          },
          "metadata": {},
          "execution_count": 45
        }
      ]
    },
    {
      "cell_type": "code",
      "source": [
        "reviews=[(i.text).strip('(').strip(')') for i in soup.find_all('span',class_=\"css-1j33oxj\")]\n",
        "reviews"
      ],
      "metadata": {
        "colab": {
          "base_uri": "https://localhost:8080/"
        },
        "id": "7YyuLDlIRe9A",
        "outputId": "b1e22fe5-9a3b-478f-f30b-1fda61349530"
      },
      "execution_count": null,
      "outputs": [
        {
          "output_type": "execute_result",
          "data": {
            "text/plain": [
              "[' 55012 ',\n",
              " ' 3102 ',\n",
              " ' 20901 ',\n",
              " ' 3190 ',\n",
              " ' 6348 ',\n",
              " ' 7547 ',\n",
              " ' 75 ',\n",
              " ' 9723 ',\n",
              " ' 18 ',\n",
              " ' 88731 ',\n",
              " ' 46337 ',\n",
              " ' 11218 ',\n",
              " ' 20646 ',\n",
              " ' 36432 ',\n",
              " ' 7544 ',\n",
              " ' 13861 ',\n",
              " ' 9239 ',\n",
              " ' 4711 ',\n",
              " ' 14178 ',\n",
              " ' 10453 ']"
            ]
          },
          "metadata": {},
          "execution_count": 46
        }
      ]
    },
    {
      "cell_type": "code",
      "source": [
        "offer=[i.find('span',class_=\"css-r2b2eh\").text if i.find('span',class_=\"css-r2b2eh\") else np.NaN for i in soup.find_all('div',class_='css-1rd7vky')]\n",
        "offer"
      ],
      "metadata": {
        "colab": {
          "base_uri": "https://localhost:8080/"
        },
        "id": "ZQaIX312Re_2",
        "outputId": "a37c2501-1088-4338-db39-45ecc6befc57"
      },
      "execution_count": null,
      "outputs": [
        {
          "output_type": "execute_result",
          "data": {
            "text/plain": [
              "['20% Off',\n",
              " '25% Off',\n",
              " '20% Off',\n",
              " nan,\n",
              " '30% Off',\n",
              " nan,\n",
              " '40% Off',\n",
              " '20% Off',\n",
              " '25% Off',\n",
              " '20% Off',\n",
              " nan,\n",
              " '15% Off',\n",
              " nan,\n",
              " '10% Off',\n",
              " '20% Off',\n",
              " nan,\n",
              " nan,\n",
              " '50% Off',\n",
              " '20% Off',\n",
              " '10% Off']"
            ]
          },
          "metadata": {},
          "execution_count": 47
        }
      ]
    },
    {
      "cell_type": "code",
      "source": [
        "shade=[i.find('div',class_=\"css-asphnc\").text.strip('shades') if i.find('div',class_=\"css-asphnc\") else '1' for i in soup.find_all('div',class_='css-1rd7vky')]\n",
        "shade"
      ],
      "metadata": {
        "colab": {
          "base_uri": "https://localhost:8080/"
        },
        "id": "xdhg1dkMSi7g",
        "outputId": "cd957233-ec2a-4caf-cca6-7917d4cca032"
      },
      "execution_count": null,
      "outputs": [
        {
          "output_type": "execute_result",
          "data": {
            "text/plain": [
              "['18 ',\n",
              " '8 ',\n",
              " '23 ',\n",
              " '24 ',\n",
              " '8 ',\n",
              " '1',\n",
              " '20 ',\n",
              " '1',\n",
              " '21 ',\n",
              " '26 ',\n",
              " '30 ',\n",
              " '35 ',\n",
              " '17 ',\n",
              " '13 ',\n",
              " '16 ',\n",
              " '12 ',\n",
              " '25 ',\n",
              " '9 ',\n",
              " '21 ',\n",
              " '29 ']"
            ]
          },
          "metadata": {},
          "execution_count": 48
        }
      ]
    },
    {
      "cell_type": "code",
      "source": [
        "lip_details=[]\n",
        "for n,o,d,off,shad,gif,r in zip (name,original_price,Discount_price,offer,shade,gifts,reviews):\n",
        "  lip_details.append({'Product_name':n,'Original_price':o,'Discount_price':d,'Offers':off,'Shades':shad,'Gifts':gif ,'Reviews':r})\n",
        "\n",
        "\n",
        "lip_details"
      ],
      "metadata": {
        "colab": {
          "base_uri": "https://localhost:8080/"
        },
        "id": "uGHjEtzHSnp6",
        "outputId": "6adcdd04-f1bb-44f2-a0f3-5c2fad204bf5"
      },
      "execution_count": null,
      "outputs": [
        {
          "output_type": "execute_result",
          "data": {
            "text/plain": [
              "[{'Product_name': 'Nykaa So Creme! Creamy Matte Lipstick',\n",
              "  'Original_price': '₹299',\n",
              "  'Discount_price': '₹239',\n",
              "  'Offers': '20% Off',\n",
              "  'Shades': '18 ',\n",
              "  'Gifts': 'Get Free Product',\n",
              "  'Reviews': ' 55012 '},\n",
              " {'Product_name': 'Maybelline New York Color Sensational Ultimattes Lipstick',\n",
              "  'Original_price': '₹549',\n",
              "  'Discount_price': '₹410',\n",
              "  'Offers': '25% Off',\n",
              "  'Shades': '8 ',\n",
              "  'Gifts': nan,\n",
              "  'Reviews': ' 3102 '},\n",
              " {'Product_name': 'Faces Canada Ultime Pro Hd Intense Matte Lips + Primer',\n",
              "  'Original_price': '₹799',\n",
              "  'Discount_price': '₹639',\n",
              "  'Offers': '20% Off',\n",
              "  'Shades': '23 ',\n",
              "  'Gifts': nan,\n",
              "  'Reviews': ' 20901 '},\n",
              " {'Product_name': 'Kay Beauty Matte Drama Long Stay Lipstick',\n",
              "  'Original_price': '',\n",
              "  'Discount_price': '₹999',\n",
              "  'Offers': nan,\n",
              "  'Shades': '24 ',\n",
              "  'Gifts': nan,\n",
              "  'Reviews': ' 3190 '},\n",
              " {'Product_name': 'NYX Professional Makeup Powder Puff Lippie Cream',\n",
              "  'Original_price': '₹650',\n",
              "  'Discount_price': '₹455',\n",
              "  'Offers': '30% Off',\n",
              "  'Shades': '8 ',\n",
              "  'Gifts': nan,\n",
              "  'Reviews': ' 6348 '},\n",
              " {'Product_name': 'M.A.C Retro Matte Lipstick - Ruby Woo',\n",
              "  'Original_price': '',\n",
              "  'Discount_price': '₹1750',\n",
              "  'Offers': nan,\n",
              "  'Shades': '1',\n",
              "  'Gifts': nan,\n",
              "  'Reviews': ' 7547 '},\n",
              " {'Product_name': 'Belora Paris Deepest Hd Matte',\n",
              "  'Original_price': '₹699',\n",
              "  'Discount_price': '₹419',\n",
              "  'Offers': '40% Off',\n",
              "  'Shades': '20 ',\n",
              "  'Gifts': 'Enjoy Free Gift',\n",
              "  'Reviews': ' 75 '},\n",
              " {'Product_name': 'Just Herbs Ayurvedic Matte Lipstick Micro-Mini Trial Kit',\n",
              "  'Original_price': '₹575',\n",
              "  'Discount_price': '₹460',\n",
              "  'Offers': '20% Off',\n",
              "  'Shades': '1',\n",
              "  'Gifts': 'Extra 10% Off',\n",
              "  'Reviews': ' 9723 '},\n",
              " {'Product_name': 'Max Factor Colour Elixir Lipstick',\n",
              "  'Original_price': '₹800',\n",
              "  'Discount_price': '₹600',\n",
              "  'Offers': '25% Off',\n",
              "  'Shades': '21 ',\n",
              "  'Gifts': 'Enjoy Free Gift',\n",
              "  'Reviews': ' 18 '},\n",
              " {'Product_name': 'Maybelline New York Color Sensational Creamy Matte Lipstick',\n",
              "  'Original_price': '₹299',\n",
              "  'Discount_price': '₹239',\n",
              "  'Offers': '20% Off',\n",
              "  'Shades': '26 ',\n",
              "  'Gifts': nan,\n",
              "  'Reviews': ' 88731 '},\n",
              " {'Product_name': 'Lakme Forever Matte Liquid Lip Color',\n",
              "  'Original_price': '',\n",
              "  'Discount_price': '₹295',\n",
              "  'Offers': nan,\n",
              "  'Shades': '30 ',\n",
              "  'Gifts': nan,\n",
              "  'Reviews': ' 46337 '},\n",
              " {'Product_name': 'Lakme 9 To 5 Primer + Matte Lipstick',\n",
              "  'Original_price': '₹500',\n",
              "  'Discount_price': '₹425',\n",
              "  'Offers': '15% Off',\n",
              "  'Shades': '35 ',\n",
              "  'Gifts': nan,\n",
              "  'Reviews': ' 11218 '},\n",
              " {'Product_name': 'M.A.C Lipstick / Mini',\n",
              "  'Original_price': '',\n",
              "  'Discount_price': '₹1050',\n",
              "  'Offers': nan,\n",
              "  'Shades': '17 ',\n",
              "  'Gifts': nan,\n",
              "  'Reviews': ' 20646 '},\n",
              " {'Product_name': 'Lakme 9 to 5 Weightless Matte Mousse Lip & Cheek Color',\n",
              "  'Original_price': '₹675',\n",
              "  'Discount_price': '₹608',\n",
              "  'Offers': '10% Off',\n",
              "  'Shades': '13 ',\n",
              "  'Gifts': nan,\n",
              "  'Reviews': ' 36432 '},\n",
              " {'Product_name': 'SUGAR Cosmetics Matte Attack Transferproof Lipstick',\n",
              "  'Original_price': '₹699',\n",
              "  'Discount_price': '₹559',\n",
              "  'Offers': '20% Off',\n",
              "  'Shades': '16 ',\n",
              "  'Gifts': 'Enjoy Free Gift',\n",
              "  'Reviews': ' 7544 '},\n",
              " {'Product_name': 'Nykaa Ultra Matte Mini Lipstick',\n",
              "  'Original_price': '',\n",
              "  'Discount_price': '₹239',\n",
              "  'Offers': nan,\n",
              "  'Shades': '12 ',\n",
              "  'Gifts': 'Get Free Product',\n",
              "  'Reviews': ' 13861 '},\n",
              " {'Product_name': 'Elle 18 Color Pop Matte Lip Color',\n",
              "  'Original_price': '',\n",
              "  'Discount_price': '₹80',\n",
              "  'Offers': nan,\n",
              "  'Shades': '25 ',\n",
              "  'Gifts': nan,\n",
              "  'Reviews': ' 9239 '},\n",
              " {'Product_name': 'Love Earth Multipot Lip and Cheek Tint',\n",
              "  'Original_price': '₹599',\n",
              "  'Discount_price': '₹299',\n",
              "  'Offers': '50% Off',\n",
              "  'Shades': '9 ',\n",
              "  'Gifts': nan,\n",
              "  'Reviews': ' 4711 '},\n",
              " {'Product_name': 'Kay Beauty Matteinee Matte Lip Crayon Lipstick',\n",
              "  'Original_price': '₹799',\n",
              "  'Discount_price': '₹639',\n",
              "  'Offers': '20% Off',\n",
              "  'Shades': '21 ',\n",
              "  'Gifts': nan,\n",
              "  'Reviews': ' 14178 '},\n",
              " {'Product_name': 'SUGAR Matte As Hell Crayon Lipstick With Free Sharpener',\n",
              "  'Original_price': '₹799',\n",
              "  'Discount_price': '₹719',\n",
              "  'Offers': '10% Off',\n",
              "  'Shades': '29 ',\n",
              "  'Gifts': 'Enjoy Free Gift',\n",
              "  'Reviews': ' 10453 '}]"
            ]
          },
          "metadata": {},
          "execution_count": 49
        }
      ]
    },
    {
      "cell_type": "code",
      "source": [
        "lipsticks_df=pd.DataFrame(lip_details)\n",
        "lipsticks_df"
      ],
      "metadata": {
        "colab": {
          "base_uri": "https://localhost:8080/",
          "height": 676
        },
        "id": "2Gmn83O1S0tI",
        "outputId": "b79e4b4d-f53e-4315-9b4e-2a3e1e70a8f3"
      },
      "execution_count": null,
      "outputs": [
        {
          "output_type": "execute_result",
          "data": {
            "text/plain": [
              "                                         Product_name Original_price  \\\n",
              "0               Nykaa So Creme! Creamy Matte Lipstick           ₹299   \n",
              "1   Maybelline New York Color Sensational Ultimatt...           ₹549   \n",
              "2   Faces Canada Ultime Pro Hd Intense Matte Lips ...           ₹799   \n",
              "3           Kay Beauty Matte Drama Long Stay Lipstick                  \n",
              "4    NYX Professional Makeup Powder Puff Lippie Cream           ₹650   \n",
              "5               M.A.C Retro Matte Lipstick - Ruby Woo                  \n",
              "6                       Belora Paris Deepest Hd Matte           ₹699   \n",
              "7   Just Herbs Ayurvedic Matte Lipstick Micro-Mini...           ₹575   \n",
              "8                   Max Factor Colour Elixir Lipstick           ₹800   \n",
              "9   Maybelline New York Color Sensational Creamy M...           ₹299   \n",
              "10               Lakme Forever Matte Liquid Lip Color                  \n",
              "11               Lakme 9 To 5 Primer + Matte Lipstick           ₹500   \n",
              "12                              M.A.C Lipstick / Mini                  \n",
              "13  Lakme 9 to 5 Weightless Matte Mousse Lip & Che...           ₹675   \n",
              "14  SUGAR Cosmetics Matte Attack Transferproof Lip...           ₹699   \n",
              "15                    Nykaa Ultra Matte Mini Lipstick                  \n",
              "16                  Elle 18 Color Pop Matte Lip Color                  \n",
              "17             Love Earth Multipot Lip and Cheek Tint           ₹599   \n",
              "18     Kay Beauty Matteinee Matte Lip Crayon Lipstick           ₹799   \n",
              "19  SUGAR Matte As Hell Crayon Lipstick With Free ...           ₹799   \n",
              "\n",
              "   Discount_price   Offers Shades             Gifts  Reviews  \n",
              "0            ₹239  20% Off    18   Get Free Product   55012   \n",
              "1            ₹410  25% Off     8                NaN    3102   \n",
              "2            ₹639  20% Off    23                NaN   20901   \n",
              "3            ₹999      NaN    24                NaN    3190   \n",
              "4            ₹455  30% Off     8                NaN    6348   \n",
              "5           ₹1750      NaN      1               NaN    7547   \n",
              "6            ₹419  40% Off    20    Enjoy Free Gift      75   \n",
              "7            ₹460  20% Off      1     Extra 10% Off    9723   \n",
              "8            ₹600  25% Off    21    Enjoy Free Gift      18   \n",
              "9            ₹239  20% Off    26                NaN   88731   \n",
              "10           ₹295      NaN    30                NaN   46337   \n",
              "11           ₹425  15% Off    35                NaN   11218   \n",
              "12          ₹1050      NaN    17                NaN   20646   \n",
              "13           ₹608  10% Off    13                NaN   36432   \n",
              "14           ₹559  20% Off    16    Enjoy Free Gift    7544   \n",
              "15           ₹239      NaN    12   Get Free Product   13861   \n",
              "16            ₹80      NaN    25                NaN    9239   \n",
              "17           ₹299  50% Off     9                NaN    4711   \n",
              "18           ₹639  20% Off    21                NaN   14178   \n",
              "19           ₹719  10% Off    29    Enjoy Free Gift   10453   "
            ],
            "text/html": [
              "\n",
              "  <div id=\"df-2bf4ae37-6bb9-4167-937f-e49324c244a8\">\n",
              "    <div class=\"colab-df-container\">\n",
              "      <div>\n",
              "<style scoped>\n",
              "    .dataframe tbody tr th:only-of-type {\n",
              "        vertical-align: middle;\n",
              "    }\n",
              "\n",
              "    .dataframe tbody tr th {\n",
              "        vertical-align: top;\n",
              "    }\n",
              "\n",
              "    .dataframe thead th {\n",
              "        text-align: right;\n",
              "    }\n",
              "</style>\n",
              "<table border=\"1\" class=\"dataframe\">\n",
              "  <thead>\n",
              "    <tr style=\"text-align: right;\">\n",
              "      <th></th>\n",
              "      <th>Product_name</th>\n",
              "      <th>Original_price</th>\n",
              "      <th>Discount_price</th>\n",
              "      <th>Offers</th>\n",
              "      <th>Shades</th>\n",
              "      <th>Gifts</th>\n",
              "      <th>Reviews</th>\n",
              "    </tr>\n",
              "  </thead>\n",
              "  <tbody>\n",
              "    <tr>\n",
              "      <th>0</th>\n",
              "      <td>Nykaa So Creme! Creamy Matte Lipstick</td>\n",
              "      <td>₹299</td>\n",
              "      <td>₹239</td>\n",
              "      <td>20% Off</td>\n",
              "      <td>18</td>\n",
              "      <td>Get Free Product</td>\n",
              "      <td>55012</td>\n",
              "    </tr>\n",
              "    <tr>\n",
              "      <th>1</th>\n",
              "      <td>Maybelline New York Color Sensational Ultimatt...</td>\n",
              "      <td>₹549</td>\n",
              "      <td>₹410</td>\n",
              "      <td>25% Off</td>\n",
              "      <td>8</td>\n",
              "      <td>NaN</td>\n",
              "      <td>3102</td>\n",
              "    </tr>\n",
              "    <tr>\n",
              "      <th>2</th>\n",
              "      <td>Faces Canada Ultime Pro Hd Intense Matte Lips ...</td>\n",
              "      <td>₹799</td>\n",
              "      <td>₹639</td>\n",
              "      <td>20% Off</td>\n",
              "      <td>23</td>\n",
              "      <td>NaN</td>\n",
              "      <td>20901</td>\n",
              "    </tr>\n",
              "    <tr>\n",
              "      <th>3</th>\n",
              "      <td>Kay Beauty Matte Drama Long Stay Lipstick</td>\n",
              "      <td></td>\n",
              "      <td>₹999</td>\n",
              "      <td>NaN</td>\n",
              "      <td>24</td>\n",
              "      <td>NaN</td>\n",
              "      <td>3190</td>\n",
              "    </tr>\n",
              "    <tr>\n",
              "      <th>4</th>\n",
              "      <td>NYX Professional Makeup Powder Puff Lippie Cream</td>\n",
              "      <td>₹650</td>\n",
              "      <td>₹455</td>\n",
              "      <td>30% Off</td>\n",
              "      <td>8</td>\n",
              "      <td>NaN</td>\n",
              "      <td>6348</td>\n",
              "    </tr>\n",
              "    <tr>\n",
              "      <th>5</th>\n",
              "      <td>M.A.C Retro Matte Lipstick - Ruby Woo</td>\n",
              "      <td></td>\n",
              "      <td>₹1750</td>\n",
              "      <td>NaN</td>\n",
              "      <td>1</td>\n",
              "      <td>NaN</td>\n",
              "      <td>7547</td>\n",
              "    </tr>\n",
              "    <tr>\n",
              "      <th>6</th>\n",
              "      <td>Belora Paris Deepest Hd Matte</td>\n",
              "      <td>₹699</td>\n",
              "      <td>₹419</td>\n",
              "      <td>40% Off</td>\n",
              "      <td>20</td>\n",
              "      <td>Enjoy Free Gift</td>\n",
              "      <td>75</td>\n",
              "    </tr>\n",
              "    <tr>\n",
              "      <th>7</th>\n",
              "      <td>Just Herbs Ayurvedic Matte Lipstick Micro-Mini...</td>\n",
              "      <td>₹575</td>\n",
              "      <td>₹460</td>\n",
              "      <td>20% Off</td>\n",
              "      <td>1</td>\n",
              "      <td>Extra 10% Off</td>\n",
              "      <td>9723</td>\n",
              "    </tr>\n",
              "    <tr>\n",
              "      <th>8</th>\n",
              "      <td>Max Factor Colour Elixir Lipstick</td>\n",
              "      <td>₹800</td>\n",
              "      <td>₹600</td>\n",
              "      <td>25% Off</td>\n",
              "      <td>21</td>\n",
              "      <td>Enjoy Free Gift</td>\n",
              "      <td>18</td>\n",
              "    </tr>\n",
              "    <tr>\n",
              "      <th>9</th>\n",
              "      <td>Maybelline New York Color Sensational Creamy M...</td>\n",
              "      <td>₹299</td>\n",
              "      <td>₹239</td>\n",
              "      <td>20% Off</td>\n",
              "      <td>26</td>\n",
              "      <td>NaN</td>\n",
              "      <td>88731</td>\n",
              "    </tr>\n",
              "    <tr>\n",
              "      <th>10</th>\n",
              "      <td>Lakme Forever Matte Liquid Lip Color</td>\n",
              "      <td></td>\n",
              "      <td>₹295</td>\n",
              "      <td>NaN</td>\n",
              "      <td>30</td>\n",
              "      <td>NaN</td>\n",
              "      <td>46337</td>\n",
              "    </tr>\n",
              "    <tr>\n",
              "      <th>11</th>\n",
              "      <td>Lakme 9 To 5 Primer + Matte Lipstick</td>\n",
              "      <td>₹500</td>\n",
              "      <td>₹425</td>\n",
              "      <td>15% Off</td>\n",
              "      <td>35</td>\n",
              "      <td>NaN</td>\n",
              "      <td>11218</td>\n",
              "    </tr>\n",
              "    <tr>\n",
              "      <th>12</th>\n",
              "      <td>M.A.C Lipstick / Mini</td>\n",
              "      <td></td>\n",
              "      <td>₹1050</td>\n",
              "      <td>NaN</td>\n",
              "      <td>17</td>\n",
              "      <td>NaN</td>\n",
              "      <td>20646</td>\n",
              "    </tr>\n",
              "    <tr>\n",
              "      <th>13</th>\n",
              "      <td>Lakme 9 to 5 Weightless Matte Mousse Lip &amp; Che...</td>\n",
              "      <td>₹675</td>\n",
              "      <td>₹608</td>\n",
              "      <td>10% Off</td>\n",
              "      <td>13</td>\n",
              "      <td>NaN</td>\n",
              "      <td>36432</td>\n",
              "    </tr>\n",
              "    <tr>\n",
              "      <th>14</th>\n",
              "      <td>SUGAR Cosmetics Matte Attack Transferproof Lip...</td>\n",
              "      <td>₹699</td>\n",
              "      <td>₹559</td>\n",
              "      <td>20% Off</td>\n",
              "      <td>16</td>\n",
              "      <td>Enjoy Free Gift</td>\n",
              "      <td>7544</td>\n",
              "    </tr>\n",
              "    <tr>\n",
              "      <th>15</th>\n",
              "      <td>Nykaa Ultra Matte Mini Lipstick</td>\n",
              "      <td></td>\n",
              "      <td>₹239</td>\n",
              "      <td>NaN</td>\n",
              "      <td>12</td>\n",
              "      <td>Get Free Product</td>\n",
              "      <td>13861</td>\n",
              "    </tr>\n",
              "    <tr>\n",
              "      <th>16</th>\n",
              "      <td>Elle 18 Color Pop Matte Lip Color</td>\n",
              "      <td></td>\n",
              "      <td>₹80</td>\n",
              "      <td>NaN</td>\n",
              "      <td>25</td>\n",
              "      <td>NaN</td>\n",
              "      <td>9239</td>\n",
              "    </tr>\n",
              "    <tr>\n",
              "      <th>17</th>\n",
              "      <td>Love Earth Multipot Lip and Cheek Tint</td>\n",
              "      <td>₹599</td>\n",
              "      <td>₹299</td>\n",
              "      <td>50% Off</td>\n",
              "      <td>9</td>\n",
              "      <td>NaN</td>\n",
              "      <td>4711</td>\n",
              "    </tr>\n",
              "    <tr>\n",
              "      <th>18</th>\n",
              "      <td>Kay Beauty Matteinee Matte Lip Crayon Lipstick</td>\n",
              "      <td>₹799</td>\n",
              "      <td>₹639</td>\n",
              "      <td>20% Off</td>\n",
              "      <td>21</td>\n",
              "      <td>NaN</td>\n",
              "      <td>14178</td>\n",
              "    </tr>\n",
              "    <tr>\n",
              "      <th>19</th>\n",
              "      <td>SUGAR Matte As Hell Crayon Lipstick With Free ...</td>\n",
              "      <td>₹799</td>\n",
              "      <td>₹719</td>\n",
              "      <td>10% Off</td>\n",
              "      <td>29</td>\n",
              "      <td>Enjoy Free Gift</td>\n",
              "      <td>10453</td>\n",
              "    </tr>\n",
              "  </tbody>\n",
              "</table>\n",
              "</div>\n",
              "      <button class=\"colab-df-convert\" onclick=\"convertToInteractive('df-2bf4ae37-6bb9-4167-937f-e49324c244a8')\"\n",
              "              title=\"Convert this dataframe to an interactive table.\"\n",
              "              style=\"display:none;\">\n",
              "        \n",
              "  <svg xmlns=\"http://www.w3.org/2000/svg\" height=\"24px\"viewBox=\"0 0 24 24\"\n",
              "       width=\"24px\">\n",
              "    <path d=\"M0 0h24v24H0V0z\" fill=\"none\"/>\n",
              "    <path d=\"M18.56 5.44l.94 2.06.94-2.06 2.06-.94-2.06-.94-.94-2.06-.94 2.06-2.06.94zm-11 1L8.5 8.5l.94-2.06 2.06-.94-2.06-.94L8.5 2.5l-.94 2.06-2.06.94zm10 10l.94 2.06.94-2.06 2.06-.94-2.06-.94-.94-2.06-.94 2.06-2.06.94z\"/><path d=\"M17.41 7.96l-1.37-1.37c-.4-.4-.92-.59-1.43-.59-.52 0-1.04.2-1.43.59L10.3 9.45l-7.72 7.72c-.78.78-.78 2.05 0 2.83L4 21.41c.39.39.9.59 1.41.59.51 0 1.02-.2 1.41-.59l7.78-7.78 2.81-2.81c.8-.78.8-2.07 0-2.86zM5.41 20L4 18.59l7.72-7.72 1.47 1.35L5.41 20z\"/>\n",
              "  </svg>\n",
              "      </button>\n",
              "      \n",
              "  <style>\n",
              "    .colab-df-container {\n",
              "      display:flex;\n",
              "      flex-wrap:wrap;\n",
              "      gap: 12px;\n",
              "    }\n",
              "\n",
              "    .colab-df-convert {\n",
              "      background-color: #E8F0FE;\n",
              "      border: none;\n",
              "      border-radius: 50%;\n",
              "      cursor: pointer;\n",
              "      display: none;\n",
              "      fill: #1967D2;\n",
              "      height: 32px;\n",
              "      padding: 0 0 0 0;\n",
              "      width: 32px;\n",
              "    }\n",
              "\n",
              "    .colab-df-convert:hover {\n",
              "      background-color: #E2EBFA;\n",
              "      box-shadow: 0px 1px 2px rgba(60, 64, 67, 0.3), 0px 1px 3px 1px rgba(60, 64, 67, 0.15);\n",
              "      fill: #174EA6;\n",
              "    }\n",
              "\n",
              "    [theme=dark] .colab-df-convert {\n",
              "      background-color: #3B4455;\n",
              "      fill: #D2E3FC;\n",
              "    }\n",
              "\n",
              "    [theme=dark] .colab-df-convert:hover {\n",
              "      background-color: #434B5C;\n",
              "      box-shadow: 0px 1px 3px 1px rgba(0, 0, 0, 0.15);\n",
              "      filter: drop-shadow(0px 1px 2px rgba(0, 0, 0, 0.3));\n",
              "      fill: #FFFFFF;\n",
              "    }\n",
              "  </style>\n",
              "\n",
              "      <script>\n",
              "        const buttonEl =\n",
              "          document.querySelector('#df-2bf4ae37-6bb9-4167-937f-e49324c244a8 button.colab-df-convert');\n",
              "        buttonEl.style.display =\n",
              "          google.colab.kernel.accessAllowed ? 'block' : 'none';\n",
              "\n",
              "        async function convertToInteractive(key) {\n",
              "          const element = document.querySelector('#df-2bf4ae37-6bb9-4167-937f-e49324c244a8');\n",
              "          const dataTable =\n",
              "            await google.colab.kernel.invokeFunction('convertToInteractive',\n",
              "                                                     [key], {});\n",
              "          if (!dataTable) return;\n",
              "\n",
              "          const docLinkHtml = 'Like what you see? Visit the ' +\n",
              "            '<a target=\"_blank\" href=https://colab.research.google.com/notebooks/data_table.ipynb>data table notebook</a>'\n",
              "            + ' to learn more about interactive tables.';\n",
              "          element.innerHTML = '';\n",
              "          dataTable['output_type'] = 'display_data';\n",
              "          await google.colab.output.renderOutput(dataTable, element);\n",
              "          const docLink = document.createElement('div');\n",
              "          docLink.innerHTML = docLinkHtml;\n",
              "          element.appendChild(docLink);\n",
              "        }\n",
              "      </script>\n",
              "    </div>\n",
              "  </div>\n",
              "  "
            ]
          },
          "metadata": {},
          "execution_count": 50
        }
      ]
    },
    {
      "cell_type": "code",
      "source": [
        "lipsticks_df.shape"
      ],
      "metadata": {
        "colab": {
          "base_uri": "https://localhost:8080/"
        },
        "id": "65PmtCAzS7J8",
        "outputId": "685b080e-7d97-4f6b-8f2f-5d19584134a3"
      },
      "execution_count": null,
      "outputs": [
        {
          "output_type": "execute_result",
          "data": {
            "text/plain": [
              "(20, 7)"
            ]
          },
          "metadata": {},
          "execution_count": 51
        }
      ]
    },
    {
      "cell_type": "code",
      "source": [
        "lipsticks_df.info()"
      ],
      "metadata": {
        "colab": {
          "base_uri": "https://localhost:8080/"
        },
        "id": "YInzn9ojTGkA",
        "outputId": "1ff783d6-fda9-4c59-996e-bf9fbf8219b2"
      },
      "execution_count": null,
      "outputs": [
        {
          "output_type": "stream",
          "name": "stdout",
          "text": [
            "<class 'pandas.core.frame.DataFrame'>\n",
            "RangeIndex: 20 entries, 0 to 19\n",
            "Data columns (total 7 columns):\n",
            " #   Column          Non-Null Count  Dtype \n",
            "---  ------          --------------  ----- \n",
            " 0   Product_name    20 non-null     object\n",
            " 1   Original_price  20 non-null     object\n",
            " 2   Discount_price  20 non-null     object\n",
            " 3   Offers          14 non-null     object\n",
            " 4   Shades          20 non-null     object\n",
            " 5   Gifts           7 non-null      object\n",
            " 6   Reviews         20 non-null     object\n",
            "dtypes: object(7)\n",
            "memory usage: 1.2+ KB\n"
          ]
        }
      ]
    },
    {
      "cell_type": "code",
      "source": [
        "op_=[i if len(i)!=0 else 0 for i in lipsticks_df['Original_price']]\n",
        "lipsticks_df['Original_price']=op_"
      ],
      "metadata": {
        "id": "6V9ngHQzTR5c"
      },
      "execution_count": null,
      "outputs": []
    },
    {
      "cell_type": "code",
      "source": [
        "o1=lipsticks_df['Original_price'].fillna('0')\n",
        "lipsticks_df['Original_price']=o1"
      ],
      "metadata": {
        "id": "Q9stmO92Uoq3"
      },
      "execution_count": null,
      "outputs": []
    },
    {
      "cell_type": "code",
      "source": [
        "op1_=lipsticks_df['Original_price'].fillna('0')\n",
        "lipsticks_df['Original_price']=op1_"
      ],
      "metadata": {
        "id": "SBeVwlwfTUpV"
      },
      "execution_count": null,
      "outputs": []
    },
    {
      "cell_type": "code",
      "source": [
        "lipsticks_df.loc[lipsticks_df['Original_price']==0,'Original_price']=lipsticks_df.loc[lipsticks_df['Original_price']==0,'Discount_price']"
      ],
      "metadata": {
        "id": "kEZ8yfoWTUrL"
      },
      "execution_count": null,
      "outputs": []
    },
    {
      "cell_type": "code",
      "source": [
        "of=lipsticks_df['Offers'].fillna('0% off')\n",
        "lipsticks_df['Offers']=of"
      ],
      "metadata": {
        "id": "JLpfnDDGTUvA"
      },
      "execution_count": null,
      "outputs": []
    },
    {
      "cell_type": "code",
      "source": [
        "g=lipsticks_df['Gifts'].fillna('No Offer')\n",
        "lipsticks_df['Gifts']=g"
      ],
      "metadata": {
        "id": "Tpm6B1O_TUx3"
      },
      "execution_count": null,
      "outputs": []
    },
    {
      "cell_type": "code",
      "source": [
        "remove_symbol = lambda x : int(x.strip('₹'))\n",
        "\n",
        "lipsticks_df['Original_price'] = lipsticks_df['Original_price'].apply(remove_symbol)\n",
        "lipsticks_df['Discount_price'] = lipsticks_df['Discount_price'].apply(remove_symbol)\n",
        "lipsticks_df"
      ],
      "metadata": {
        "colab": {
          "base_uri": "https://localhost:8080/",
          "height": 676
        },
        "id": "o2hs1GmuVwLJ",
        "outputId": "4a293fa2-2fbc-4fe1-c7a8-3776b40ed866"
      },
      "execution_count": null,
      "outputs": [
        {
          "output_type": "execute_result",
          "data": {
            "text/plain": [
              "                                         Product_name  Original_price  \\\n",
              "0               Nykaa So Creme! Creamy Matte Lipstick             299   \n",
              "1   Maybelline New York Color Sensational Ultimatt...             549   \n",
              "2   Faces Canada Ultime Pro Hd Intense Matte Lips ...             799   \n",
              "3           Kay Beauty Matte Drama Long Stay Lipstick             999   \n",
              "4    NYX Professional Makeup Powder Puff Lippie Cream             650   \n",
              "5               M.A.C Retro Matte Lipstick - Ruby Woo            1750   \n",
              "6                       Belora Paris Deepest Hd Matte             699   \n",
              "7   Just Herbs Ayurvedic Matte Lipstick Micro-Mini...             575   \n",
              "8                   Max Factor Colour Elixir Lipstick             800   \n",
              "9   Maybelline New York Color Sensational Creamy M...             299   \n",
              "10               Lakme Forever Matte Liquid Lip Color             295   \n",
              "11               Lakme 9 To 5 Primer + Matte Lipstick             500   \n",
              "12                              M.A.C Lipstick / Mini            1050   \n",
              "13  Lakme 9 to 5 Weightless Matte Mousse Lip & Che...             675   \n",
              "14  SUGAR Cosmetics Matte Attack Transferproof Lip...             699   \n",
              "15                    Nykaa Ultra Matte Mini Lipstick             239   \n",
              "16                  Elle 18 Color Pop Matte Lip Color              80   \n",
              "17             Love Earth Multipot Lip and Cheek Tint             599   \n",
              "18     Kay Beauty Matteinee Matte Lip Crayon Lipstick             799   \n",
              "19  SUGAR Matte As Hell Crayon Lipstick With Free ...             799   \n",
              "\n",
              "    Discount_price   Offers Shades             Gifts  Reviews  \n",
              "0              239  20% Off    18   Get Free Product   55012   \n",
              "1              410  25% Off     8           No Offer    3102   \n",
              "2              639  20% Off    23           No Offer   20901   \n",
              "3              999   0% off    24           No Offer    3190   \n",
              "4              455  30% Off     8           No Offer    6348   \n",
              "5             1750   0% off      1          No Offer    7547   \n",
              "6              419  40% Off    20    Enjoy Free Gift      75   \n",
              "7              460  20% Off      1     Extra 10% Off    9723   \n",
              "8              600  25% Off    21    Enjoy Free Gift      18   \n",
              "9              239  20% Off    26           No Offer   88731   \n",
              "10             295   0% off    30           No Offer   46337   \n",
              "11             425  15% Off    35           No Offer   11218   \n",
              "12            1050   0% off    17           No Offer   20646   \n",
              "13             608  10% Off    13           No Offer   36432   \n",
              "14             559  20% Off    16    Enjoy Free Gift    7544   \n",
              "15             239   0% off    12   Get Free Product   13861   \n",
              "16              80   0% off    25           No Offer    9239   \n",
              "17             299  50% Off     9           No Offer    4711   \n",
              "18             639  20% Off    21           No Offer   14178   \n",
              "19             719  10% Off    29    Enjoy Free Gift   10453   "
            ],
            "text/html": [
              "\n",
              "  <div id=\"df-33c64598-7c7f-4b24-ba25-613ce4c31bf0\">\n",
              "    <div class=\"colab-df-container\">\n",
              "      <div>\n",
              "<style scoped>\n",
              "    .dataframe tbody tr th:only-of-type {\n",
              "        vertical-align: middle;\n",
              "    }\n",
              "\n",
              "    .dataframe tbody tr th {\n",
              "        vertical-align: top;\n",
              "    }\n",
              "\n",
              "    .dataframe thead th {\n",
              "        text-align: right;\n",
              "    }\n",
              "</style>\n",
              "<table border=\"1\" class=\"dataframe\">\n",
              "  <thead>\n",
              "    <tr style=\"text-align: right;\">\n",
              "      <th></th>\n",
              "      <th>Product_name</th>\n",
              "      <th>Original_price</th>\n",
              "      <th>Discount_price</th>\n",
              "      <th>Offers</th>\n",
              "      <th>Shades</th>\n",
              "      <th>Gifts</th>\n",
              "      <th>Reviews</th>\n",
              "    </tr>\n",
              "  </thead>\n",
              "  <tbody>\n",
              "    <tr>\n",
              "      <th>0</th>\n",
              "      <td>Nykaa So Creme! Creamy Matte Lipstick</td>\n",
              "      <td>299</td>\n",
              "      <td>239</td>\n",
              "      <td>20% Off</td>\n",
              "      <td>18</td>\n",
              "      <td>Get Free Product</td>\n",
              "      <td>55012</td>\n",
              "    </tr>\n",
              "    <tr>\n",
              "      <th>1</th>\n",
              "      <td>Maybelline New York Color Sensational Ultimatt...</td>\n",
              "      <td>549</td>\n",
              "      <td>410</td>\n",
              "      <td>25% Off</td>\n",
              "      <td>8</td>\n",
              "      <td>No Offer</td>\n",
              "      <td>3102</td>\n",
              "    </tr>\n",
              "    <tr>\n",
              "      <th>2</th>\n",
              "      <td>Faces Canada Ultime Pro Hd Intense Matte Lips ...</td>\n",
              "      <td>799</td>\n",
              "      <td>639</td>\n",
              "      <td>20% Off</td>\n",
              "      <td>23</td>\n",
              "      <td>No Offer</td>\n",
              "      <td>20901</td>\n",
              "    </tr>\n",
              "    <tr>\n",
              "      <th>3</th>\n",
              "      <td>Kay Beauty Matte Drama Long Stay Lipstick</td>\n",
              "      <td>999</td>\n",
              "      <td>999</td>\n",
              "      <td>0% off</td>\n",
              "      <td>24</td>\n",
              "      <td>No Offer</td>\n",
              "      <td>3190</td>\n",
              "    </tr>\n",
              "    <tr>\n",
              "      <th>4</th>\n",
              "      <td>NYX Professional Makeup Powder Puff Lippie Cream</td>\n",
              "      <td>650</td>\n",
              "      <td>455</td>\n",
              "      <td>30% Off</td>\n",
              "      <td>8</td>\n",
              "      <td>No Offer</td>\n",
              "      <td>6348</td>\n",
              "    </tr>\n",
              "    <tr>\n",
              "      <th>5</th>\n",
              "      <td>M.A.C Retro Matte Lipstick - Ruby Woo</td>\n",
              "      <td>1750</td>\n",
              "      <td>1750</td>\n",
              "      <td>0% off</td>\n",
              "      <td>1</td>\n",
              "      <td>No Offer</td>\n",
              "      <td>7547</td>\n",
              "    </tr>\n",
              "    <tr>\n",
              "      <th>6</th>\n",
              "      <td>Belora Paris Deepest Hd Matte</td>\n",
              "      <td>699</td>\n",
              "      <td>419</td>\n",
              "      <td>40% Off</td>\n",
              "      <td>20</td>\n",
              "      <td>Enjoy Free Gift</td>\n",
              "      <td>75</td>\n",
              "    </tr>\n",
              "    <tr>\n",
              "      <th>7</th>\n",
              "      <td>Just Herbs Ayurvedic Matte Lipstick Micro-Mini...</td>\n",
              "      <td>575</td>\n",
              "      <td>460</td>\n",
              "      <td>20% Off</td>\n",
              "      <td>1</td>\n",
              "      <td>Extra 10% Off</td>\n",
              "      <td>9723</td>\n",
              "    </tr>\n",
              "    <tr>\n",
              "      <th>8</th>\n",
              "      <td>Max Factor Colour Elixir Lipstick</td>\n",
              "      <td>800</td>\n",
              "      <td>600</td>\n",
              "      <td>25% Off</td>\n",
              "      <td>21</td>\n",
              "      <td>Enjoy Free Gift</td>\n",
              "      <td>18</td>\n",
              "    </tr>\n",
              "    <tr>\n",
              "      <th>9</th>\n",
              "      <td>Maybelline New York Color Sensational Creamy M...</td>\n",
              "      <td>299</td>\n",
              "      <td>239</td>\n",
              "      <td>20% Off</td>\n",
              "      <td>26</td>\n",
              "      <td>No Offer</td>\n",
              "      <td>88731</td>\n",
              "    </tr>\n",
              "    <tr>\n",
              "      <th>10</th>\n",
              "      <td>Lakme Forever Matte Liquid Lip Color</td>\n",
              "      <td>295</td>\n",
              "      <td>295</td>\n",
              "      <td>0% off</td>\n",
              "      <td>30</td>\n",
              "      <td>No Offer</td>\n",
              "      <td>46337</td>\n",
              "    </tr>\n",
              "    <tr>\n",
              "      <th>11</th>\n",
              "      <td>Lakme 9 To 5 Primer + Matte Lipstick</td>\n",
              "      <td>500</td>\n",
              "      <td>425</td>\n",
              "      <td>15% Off</td>\n",
              "      <td>35</td>\n",
              "      <td>No Offer</td>\n",
              "      <td>11218</td>\n",
              "    </tr>\n",
              "    <tr>\n",
              "      <th>12</th>\n",
              "      <td>M.A.C Lipstick / Mini</td>\n",
              "      <td>1050</td>\n",
              "      <td>1050</td>\n",
              "      <td>0% off</td>\n",
              "      <td>17</td>\n",
              "      <td>No Offer</td>\n",
              "      <td>20646</td>\n",
              "    </tr>\n",
              "    <tr>\n",
              "      <th>13</th>\n",
              "      <td>Lakme 9 to 5 Weightless Matte Mousse Lip &amp; Che...</td>\n",
              "      <td>675</td>\n",
              "      <td>608</td>\n",
              "      <td>10% Off</td>\n",
              "      <td>13</td>\n",
              "      <td>No Offer</td>\n",
              "      <td>36432</td>\n",
              "    </tr>\n",
              "    <tr>\n",
              "      <th>14</th>\n",
              "      <td>SUGAR Cosmetics Matte Attack Transferproof Lip...</td>\n",
              "      <td>699</td>\n",
              "      <td>559</td>\n",
              "      <td>20% Off</td>\n",
              "      <td>16</td>\n",
              "      <td>Enjoy Free Gift</td>\n",
              "      <td>7544</td>\n",
              "    </tr>\n",
              "    <tr>\n",
              "      <th>15</th>\n",
              "      <td>Nykaa Ultra Matte Mini Lipstick</td>\n",
              "      <td>239</td>\n",
              "      <td>239</td>\n",
              "      <td>0% off</td>\n",
              "      <td>12</td>\n",
              "      <td>Get Free Product</td>\n",
              "      <td>13861</td>\n",
              "    </tr>\n",
              "    <tr>\n",
              "      <th>16</th>\n",
              "      <td>Elle 18 Color Pop Matte Lip Color</td>\n",
              "      <td>80</td>\n",
              "      <td>80</td>\n",
              "      <td>0% off</td>\n",
              "      <td>25</td>\n",
              "      <td>No Offer</td>\n",
              "      <td>9239</td>\n",
              "    </tr>\n",
              "    <tr>\n",
              "      <th>17</th>\n",
              "      <td>Love Earth Multipot Lip and Cheek Tint</td>\n",
              "      <td>599</td>\n",
              "      <td>299</td>\n",
              "      <td>50% Off</td>\n",
              "      <td>9</td>\n",
              "      <td>No Offer</td>\n",
              "      <td>4711</td>\n",
              "    </tr>\n",
              "    <tr>\n",
              "      <th>18</th>\n",
              "      <td>Kay Beauty Matteinee Matte Lip Crayon Lipstick</td>\n",
              "      <td>799</td>\n",
              "      <td>639</td>\n",
              "      <td>20% Off</td>\n",
              "      <td>21</td>\n",
              "      <td>No Offer</td>\n",
              "      <td>14178</td>\n",
              "    </tr>\n",
              "    <tr>\n",
              "      <th>19</th>\n",
              "      <td>SUGAR Matte As Hell Crayon Lipstick With Free ...</td>\n",
              "      <td>799</td>\n",
              "      <td>719</td>\n",
              "      <td>10% Off</td>\n",
              "      <td>29</td>\n",
              "      <td>Enjoy Free Gift</td>\n",
              "      <td>10453</td>\n",
              "    </tr>\n",
              "  </tbody>\n",
              "</table>\n",
              "</div>\n",
              "      <button class=\"colab-df-convert\" onclick=\"convertToInteractive('df-33c64598-7c7f-4b24-ba25-613ce4c31bf0')\"\n",
              "              title=\"Convert this dataframe to an interactive table.\"\n",
              "              style=\"display:none;\">\n",
              "        \n",
              "  <svg xmlns=\"http://www.w3.org/2000/svg\" height=\"24px\"viewBox=\"0 0 24 24\"\n",
              "       width=\"24px\">\n",
              "    <path d=\"M0 0h24v24H0V0z\" fill=\"none\"/>\n",
              "    <path d=\"M18.56 5.44l.94 2.06.94-2.06 2.06-.94-2.06-.94-.94-2.06-.94 2.06-2.06.94zm-11 1L8.5 8.5l.94-2.06 2.06-.94-2.06-.94L8.5 2.5l-.94 2.06-2.06.94zm10 10l.94 2.06.94-2.06 2.06-.94-2.06-.94-.94-2.06-.94 2.06-2.06.94z\"/><path d=\"M17.41 7.96l-1.37-1.37c-.4-.4-.92-.59-1.43-.59-.52 0-1.04.2-1.43.59L10.3 9.45l-7.72 7.72c-.78.78-.78 2.05 0 2.83L4 21.41c.39.39.9.59 1.41.59.51 0 1.02-.2 1.41-.59l7.78-7.78 2.81-2.81c.8-.78.8-2.07 0-2.86zM5.41 20L4 18.59l7.72-7.72 1.47 1.35L5.41 20z\"/>\n",
              "  </svg>\n",
              "      </button>\n",
              "      \n",
              "  <style>\n",
              "    .colab-df-container {\n",
              "      display:flex;\n",
              "      flex-wrap:wrap;\n",
              "      gap: 12px;\n",
              "    }\n",
              "\n",
              "    .colab-df-convert {\n",
              "      background-color: #E8F0FE;\n",
              "      border: none;\n",
              "      border-radius: 50%;\n",
              "      cursor: pointer;\n",
              "      display: none;\n",
              "      fill: #1967D2;\n",
              "      height: 32px;\n",
              "      padding: 0 0 0 0;\n",
              "      width: 32px;\n",
              "    }\n",
              "\n",
              "    .colab-df-convert:hover {\n",
              "      background-color: #E2EBFA;\n",
              "      box-shadow: 0px 1px 2px rgba(60, 64, 67, 0.3), 0px 1px 3px 1px rgba(60, 64, 67, 0.15);\n",
              "      fill: #174EA6;\n",
              "    }\n",
              "\n",
              "    [theme=dark] .colab-df-convert {\n",
              "      background-color: #3B4455;\n",
              "      fill: #D2E3FC;\n",
              "    }\n",
              "\n",
              "    [theme=dark] .colab-df-convert:hover {\n",
              "      background-color: #434B5C;\n",
              "      box-shadow: 0px 1px 3px 1px rgba(0, 0, 0, 0.15);\n",
              "      filter: drop-shadow(0px 1px 2px rgba(0, 0, 0, 0.3));\n",
              "      fill: #FFFFFF;\n",
              "    }\n",
              "  </style>\n",
              "\n",
              "      <script>\n",
              "        const buttonEl =\n",
              "          document.querySelector('#df-33c64598-7c7f-4b24-ba25-613ce4c31bf0 button.colab-df-convert');\n",
              "        buttonEl.style.display =\n",
              "          google.colab.kernel.accessAllowed ? 'block' : 'none';\n",
              "\n",
              "        async function convertToInteractive(key) {\n",
              "          const element = document.querySelector('#df-33c64598-7c7f-4b24-ba25-613ce4c31bf0');\n",
              "          const dataTable =\n",
              "            await google.colab.kernel.invokeFunction('convertToInteractive',\n",
              "                                                     [key], {});\n",
              "          if (!dataTable) return;\n",
              "\n",
              "          const docLinkHtml = 'Like what you see? Visit the ' +\n",
              "            '<a target=\"_blank\" href=https://colab.research.google.com/notebooks/data_table.ipynb>data table notebook</a>'\n",
              "            + ' to learn more about interactive tables.';\n",
              "          element.innerHTML = '';\n",
              "          dataTable['output_type'] = 'display_data';\n",
              "          await google.colab.output.renderOutput(dataTable, element);\n",
              "          const docLink = document.createElement('div');\n",
              "          docLink.innerHTML = docLinkHtml;\n",
              "          element.appendChild(docLink);\n",
              "        }\n",
              "      </script>\n",
              "    </div>\n",
              "  </div>\n",
              "  "
            ]
          },
          "metadata": {},
          "execution_count": 59
        }
      ]
    },
    {
      "cell_type": "code",
      "source": [
        "fig,axes=plt.subplots(2,1,figsize=(20,10))\n",
        "sns.countplot(x=lipsticks_df['Offers'],palette=\"Set1\",edgecolor=sns.color_palette(\"dark\", 4),ax=axes[0])\n",
        "sns.countplot(x=lipsticks_df['Shades'],palette=\"Set1\",edgecolor=sns.color_palette(\"dark\", 4),ax=axes[1])"
      ],
      "metadata": {
        "colab": {
          "base_uri": "https://localhost:8080/",
          "height": 624
        },
        "id": "Iz6RrA8kUf83",
        "outputId": "76cf8ae3-c7c2-453f-f9ff-fff9f8812206"
      },
      "execution_count": null,
      "outputs": [
        {
          "output_type": "execute_result",
          "data": {
            "text/plain": [
              "<matplotlib.axes._subplots.AxesSubplot at 0x7fb53e2adb50>"
            ]
          },
          "metadata": {},
          "execution_count": 60
        },
        {
          "output_type": "display_data",
          "data": {
            "text/plain": [
              "<Figure size 1440x720 with 2 Axes>"
            ],
            "image/png": "[encoded data removed]"
          },
          "metadata": {
            "needs_background": "light"
          }
        }
      ]
    },
    {
      "cell_type": "code",
      "source": [
        "z_offer=lipsticks_df[lipsticks_df['Offers']=='0% off']\n",
        "z_offer.groupby(['Gifts'])['Product_name'].count().plot(kind='bar')"
      ],
      "metadata": {
        "colab": {
          "base_uri": "https://localhost:8080/",
          "height": 370
        },
        "id": "xytBtYX-UubC",
        "outputId": "c0082ff1-9326-4147-ce54-62407daa77ef"
      },
      "execution_count": null,
      "outputs": [
        {
          "output_type": "execute_result",
          "data": {
            "text/plain": [
              "<matplotlib.axes._subplots.AxesSubplot at 0x7fb53e220750>"
            ]
          },
          "metadata": {},
          "execution_count": 61
        },
        {
          "output_type": "display_data",
          "data": {
            "text/plain": [
              "<Figure size 432x288 with 1 Axes>"
            ],
            "image/png": "[encoded data removed]"
          },
          "metadata": {
            "needs_background": "light"
          }
        }
      ]
    },
    {
      "cell_type": "code",
      "source": [
        "single_shade=lipsticks_df[lipsticks_df['Shades']=='1']\n",
        "single_shade.groupby(['Product_name'])['Shades'].count().plot(kind='barh')"
      ],
      "metadata": {
        "colab": {
          "base_uri": "https://localhost:8080/",
          "height": 283
        },
        "id": "O0R2VVpKUzmV",
        "outputId": "7b6b0b26-b02c-4c2b-f26a-fad747fe8b9b"
      },
      "execution_count": null,
      "outputs": [
        {
          "output_type": "execute_result",
          "data": {
            "text/plain": [
              "<matplotlib.axes._subplots.AxesSubplot at 0x7fb53e1a7710>"
            ]
          },
          "metadata": {},
          "execution_count": 62
        },
        {
          "output_type": "display_data",
          "data": {
            "text/plain": [
              "<Figure size 432x288 with 1 Axes>"
            ],
            "image/png": "[encoded data removed]"
          },
          "metadata": {
            "needs_background": "light"
          }
        }
      ]
    },
    {
      "cell_type": "code",
      "source": [
        "plt.figure(figsize=(20,10))\n",
        "sns.barplot(y=lipsticks_df['Product_name'],x=lipsticks_df['Shades'].astype(int),palette=\"Set1\",edgecolor=sns.color_palette(\"dark\", 4))"
      ],
      "metadata": {
        "colab": {
          "base_uri": "https://localhost:8080/",
          "height": 624
        },
        "id": "ar9fWr9WUzn1",
        "outputId": "3359ed46-8780-4318-c382-3e09beef024a"
      },
      "execution_count": null,
      "outputs": [
        {
          "output_type": "execute_result",
          "data": {
            "text/plain": [
              "<matplotlib.axes._subplots.AxesSubplot at 0x7fb53e103550>"
            ]
          },
          "metadata": {},
          "execution_count": 63
        },
        {
          "output_type": "display_data",
          "data": {
            "text/plain": [
              "<Figure size 1440x720 with 1 Axes>"
            ],
            "image/png": "[encoded data removed]"
          },
          "metadata": {
            "needs_background": "light"
          }
        }
      ]
    },
    {
      "cell_type": "code",
      "source": [
        "plt.figure(figsize=(20,10))\n",
        "sns.barplot(y=lipsticks_df['Gifts'],x=lipsticks_df['Reviews'].astype(int),palette=\"Set1\",edgecolor=sns.color_palette(\"dark\", 4))"
      ],
      "metadata": {
        "colab": {
          "base_uri": "https://localhost:8080/",
          "height": 624
        },
        "id": "xuVsR6HSUzrJ",
        "outputId": "b922a451-d970-40be-de6e-186350a52357"
      },
      "execution_count": null,
      "outputs": [
        {
          "output_type": "execute_result",
          "data": {
            "text/plain": [
              "<matplotlib.axes._subplots.AxesSubplot at 0x7fb53dfb5110>"
            ]
          },
          "metadata": {},
          "execution_count": 64
        },
        {
          "output_type": "display_data",
          "data": {
            "text/plain": [
              "<Figure size 1440x720 with 1 Axes>"
            ],
            "image/png": "[encoded data removed]"
          },
          "metadata": {
            "needs_background": "light"
          }
        }
      ]
    },
    {
      "cell_type": "code",
      "source": [
        "plt.figure(figsize=(20,10))\n",
        "sns.barplot(x=lipsticks_df['Offers'],y=lipsticks_df['Shades'].astype(int))"
      ],
      "metadata": {
        "colab": {
          "base_uri": "https://localhost:8080/",
          "height": 624
        },
        "id": "ahmcL46KV8Jh",
        "outputId": "e21c4e29-e98e-4ce1-eaa1-a62d226030f7"
      },
      "execution_count": null,
      "outputs": [
        {
          "output_type": "execute_result",
          "data": {
            "text/plain": [
              "<matplotlib.axes._subplots.AxesSubplot at 0x7fb53df432d0>"
            ]
          },
          "metadata": {},
          "execution_count": 65
        },
        {
          "output_type": "display_data",
          "data": {
            "text/plain": [
              "<Figure size 1440x720 with 1 Axes>"
            ],
            "image/png": "[encoded data removed]"
          },
          "metadata": {
            "needs_background": "light"
          }
        }
      ]
    },
    {
      "cell_type": "code",
      "source": [
        "plt.figure(figsize=(20,10))\n",
        "sns.barplot(y=lipsticks_df['Product_name'],x=lipsticks_df['Reviews'].astype(int),palette='Set1',edgecolor=sns.color_palette('dark',4))"
      ],
      "metadata": {
        "colab": {
          "base_uri": "https://localhost:8080/",
          "height": 109
        },
        "id": "Ui98ppQDWAK5",
        "outputId": "6b310d68-0d52-40c4-fe3a-23be5af19ddf"
      },
      "execution_count": null,
      "outputs": [
        {
          "output_type": "execute_result",
          "data": {
            "text/plain": [
              "<matplotlib.axes._subplots.AxesSubplot at 0x7fb53deea550>"
            ]
          },
          "metadata": {},
          "execution_count": 66
        },
        {
          "output_type": "display_data",
          "data": {
            "text/plain": [
              "<Figure size 1440x720 with 1 Axes>"
            ],
            "image/png": "[encoded data removed]"
          },
          "metadata": {
            "needs_background": "light"
          }
        }
      ]
    },
    {
      "cell_type": "code",
      "source": [
        "lipsticks_df=lipsticks_df.set_index('Product_name')\n",
        "lipsticks_df.loc[:,['Original_price','Discount_price']].sort_values(by='Original_price',ascending=False).plot(kind='bar',figsize=(20,10),cmap='Set1')"
      ],
      "metadata": {
        "colab": {
          "base_uri": "https://localhost:8080/",
          "height": 922
        },
        "id": "gZB3b7oVWsEK",
        "outputId": "710be64e-fc86-40fc-a846-2ecfef18fce0"
      },
      "execution_count": null,
      "outputs": [
        {
          "output_type": "execute_result",
          "data": {
            "text/plain": [
              "<matplotlib.axes._subplots.AxesSubplot at 0x7fb53e35ef90>"
            ]
          },
          "metadata": {},
          "execution_count": 67
        },
        {
          "output_type": "display_data",
          "data": {
            "text/plain": [
              "<Figure size 1440x720 with 1 Axes>"
            ],
            "image/png": "[encoded data removed]"
          },
          "metadata": {
            "needs_background": "light"
          }
        }
      ]
    },
    {
      "cell_type": "code",
      "source": [
        ""
      ],
      "metadata": {
        "id": "ykMQHF2wWANn"
      },
      "execution_count": null,
      "outputs": []
    }
  ]
}